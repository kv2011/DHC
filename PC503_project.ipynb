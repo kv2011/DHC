{
  "cells": [
    {
      "cell_type": "markdown",
      "metadata": {
        "id": "view-in-github",
        "colab_type": "text"
      },
      "source": [
        "<a href=\"https://colab.research.google.com/github/kv2011/DHC/blob/main/PC503_project.ipynb\" target=\"_parent\"><img src=\"https://colab.research.google.com/assets/colab-badge.svg\" alt=\"Open In Colab\"/></a>"
      ]
    },
    {
      "cell_type": "code",
      "execution_count": null,
      "id": "f8bfc8b0",
      "metadata": {
        "papermill": {
          "duration": 1.686996,
          "end_time": "2024-11-12T09:52:48.173822",
          "exception": false,
          "start_time": "2024-11-12T09:52:46.486826",
          "status": "completed"
        },
        "tags": [],
        "id": "f8bfc8b0"
      },
      "outputs": [],
      "source": [
        "import numpy as np\n",
        "import pandas as pd\n",
        "import matplotlib.pyplot as plt\n",
        "import seaborn as sns\n",
        "import warnings\n",
        "warnings.filterwarnings(\"ignore\")"
      ]
    },
    {
      "cell_type": "code",
      "execution_count": null,
      "id": "1361273b-2bab-4a72-9aeb-93b972817cdf",
      "metadata": {
        "id": "1361273b-2bab-4a72-9aeb-93b972817cdf",
        "outputId": "8bd7d015-8b51-4aca-82f3-a01f024c335d"
      },
      "outputs": [
        {
          "name": "stdout",
          "output_type": "stream",
          "text": [
            "D:\\M.Tech Sem 1\\Programming\\Project\n"
          ]
        }
      ],
      "source": [
        "cd D:\\M.Tech Sem 1\\Programming\\Project"
      ]
    },
    {
      "cell_type": "code",
      "execution_count": null,
      "id": "09219a97",
      "metadata": {
        "papermill": {
          "duration": 0.112303,
          "end_time": "2024-11-12T09:52:48.318264",
          "exception": false,
          "start_time": "2024-11-12T09:52:48.205961",
          "status": "completed"
        },
        "tags": [],
        "id": "09219a97"
      },
      "outputs": [],
      "source": [
        "df=pd.read_csv(\"churn_data.csv\")"
      ]
    },
    {
      "cell_type": "code",
      "execution_count": null,
      "id": "2aba5e16",
      "metadata": {
        "papermill": {
          "duration": 0.090952,
          "end_time": "2024-11-12T09:52:48.441652",
          "exception": false,
          "start_time": "2024-11-12T09:52:48.350700",
          "status": "completed"
        },
        "tags": [],
        "id": "2aba5e16",
        "outputId": "6c180031-fabf-48e9-be7f-f549ef0d2f7b"
      },
      "outputs": [
        {
          "data": {
            "text/html": [
              "<div>\n",
              "<style scoped>\n",
              "    .dataframe tbody tr th:only-of-type {\n",
              "        vertical-align: middle;\n",
              "    }\n",
              "\n",
              "    .dataframe tbody tr th {\n",
              "        vertical-align: top;\n",
              "    }\n",
              "\n",
              "    .dataframe thead th {\n",
              "        text-align: right;\n",
              "    }\n",
              "</style>\n",
              "<table border=\"1\" class=\"dataframe\">\n",
              "  <thead>\n",
              "    <tr style=\"text-align: right;\">\n",
              "      <th></th>\n",
              "      <th>customerID</th>\n",
              "      <th>gender</th>\n",
              "      <th>SeniorCitizen</th>\n",
              "      <th>Partner</th>\n",
              "      <th>Dependents</th>\n",
              "      <th>tenure</th>\n",
              "      <th>PhoneService</th>\n",
              "      <th>MultipleLines</th>\n",
              "      <th>InternetService</th>\n",
              "      <th>OnlineSecurity</th>\n",
              "      <th>...</th>\n",
              "      <th>DeviceProtection</th>\n",
              "      <th>TechSupport</th>\n",
              "      <th>StreamingTV</th>\n",
              "      <th>StreamingMovies</th>\n",
              "      <th>Contract</th>\n",
              "      <th>PaperlessBilling</th>\n",
              "      <th>PaymentMethod</th>\n",
              "      <th>MonthlyCharges</th>\n",
              "      <th>TotalCharges</th>\n",
              "      <th>Churn</th>\n",
              "    </tr>\n",
              "  </thead>\n",
              "  <tbody>\n",
              "    <tr>\n",
              "      <th>0</th>\n",
              "      <td>7590-VHVEG</td>\n",
              "      <td>Female</td>\n",
              "      <td>0</td>\n",
              "      <td>Yes</td>\n",
              "      <td>No</td>\n",
              "      <td>1</td>\n",
              "      <td>No</td>\n",
              "      <td>No phone service</td>\n",
              "      <td>DSL</td>\n",
              "      <td>No</td>\n",
              "      <td>...</td>\n",
              "      <td>No</td>\n",
              "      <td>No</td>\n",
              "      <td>No</td>\n",
              "      <td>No</td>\n",
              "      <td>Month-to-month</td>\n",
              "      <td>Yes</td>\n",
              "      <td>Electronic check</td>\n",
              "      <td>29.85</td>\n",
              "      <td>29.85</td>\n",
              "      <td>No</td>\n",
              "    </tr>\n",
              "    <tr>\n",
              "      <th>1</th>\n",
              "      <td>5575-GNVDE</td>\n",
              "      <td>Male</td>\n",
              "      <td>0</td>\n",
              "      <td>No</td>\n",
              "      <td>No</td>\n",
              "      <td>34</td>\n",
              "      <td>Yes</td>\n",
              "      <td>No</td>\n",
              "      <td>DSL</td>\n",
              "      <td>Yes</td>\n",
              "      <td>...</td>\n",
              "      <td>Yes</td>\n",
              "      <td>No</td>\n",
              "      <td>No</td>\n",
              "      <td>No</td>\n",
              "      <td>One year</td>\n",
              "      <td>No</td>\n",
              "      <td>Mailed check</td>\n",
              "      <td>56.95</td>\n",
              "      <td>1889.5</td>\n",
              "      <td>No</td>\n",
              "    </tr>\n",
              "    <tr>\n",
              "      <th>2</th>\n",
              "      <td>3668-QPYBK</td>\n",
              "      <td>Male</td>\n",
              "      <td>0</td>\n",
              "      <td>No</td>\n",
              "      <td>No</td>\n",
              "      <td>2</td>\n",
              "      <td>Yes</td>\n",
              "      <td>No</td>\n",
              "      <td>DSL</td>\n",
              "      <td>Yes</td>\n",
              "      <td>...</td>\n",
              "      <td>No</td>\n",
              "      <td>No</td>\n",
              "      <td>No</td>\n",
              "      <td>No</td>\n",
              "      <td>Month-to-month</td>\n",
              "      <td>Yes</td>\n",
              "      <td>Mailed check</td>\n",
              "      <td>53.85</td>\n",
              "      <td>108.15</td>\n",
              "      <td>Yes</td>\n",
              "    </tr>\n",
              "    <tr>\n",
              "      <th>3</th>\n",
              "      <td>7795-CFOCW</td>\n",
              "      <td>Male</td>\n",
              "      <td>0</td>\n",
              "      <td>No</td>\n",
              "      <td>No</td>\n",
              "      <td>45</td>\n",
              "      <td>No</td>\n",
              "      <td>No phone service</td>\n",
              "      <td>DSL</td>\n",
              "      <td>Yes</td>\n",
              "      <td>...</td>\n",
              "      <td>Yes</td>\n",
              "      <td>Yes</td>\n",
              "      <td>No</td>\n",
              "      <td>No</td>\n",
              "      <td>One year</td>\n",
              "      <td>No</td>\n",
              "      <td>Bank transfer (automatic)</td>\n",
              "      <td>42.30</td>\n",
              "      <td>1840.75</td>\n",
              "      <td>No</td>\n",
              "    </tr>\n",
              "    <tr>\n",
              "      <th>4</th>\n",
              "      <td>9237-HQITU</td>\n",
              "      <td>Female</td>\n",
              "      <td>0</td>\n",
              "      <td>No</td>\n",
              "      <td>No</td>\n",
              "      <td>2</td>\n",
              "      <td>Yes</td>\n",
              "      <td>No</td>\n",
              "      <td>Fiber optic</td>\n",
              "      <td>No</td>\n",
              "      <td>...</td>\n",
              "      <td>No</td>\n",
              "      <td>No</td>\n",
              "      <td>No</td>\n",
              "      <td>No</td>\n",
              "      <td>Month-to-month</td>\n",
              "      <td>Yes</td>\n",
              "      <td>Electronic check</td>\n",
              "      <td>70.70</td>\n",
              "      <td>151.65</td>\n",
              "      <td>Yes</td>\n",
              "    </tr>\n",
              "  </tbody>\n",
              "</table>\n",
              "<p>5 rows × 21 columns</p>\n",
              "</div>"
            ],
            "text/plain": [
              "   customerID  gender  SeniorCitizen Partner Dependents  tenure PhoneService  \\\n",
              "0  7590-VHVEG  Female              0     Yes         No       1           No   \n",
              "1  5575-GNVDE    Male              0      No         No      34          Yes   \n",
              "2  3668-QPYBK    Male              0      No         No       2          Yes   \n",
              "3  7795-CFOCW    Male              0      No         No      45           No   \n",
              "4  9237-HQITU  Female              0      No         No       2          Yes   \n",
              "\n",
              "      MultipleLines InternetService OnlineSecurity  ... DeviceProtection  \\\n",
              "0  No phone service             DSL             No  ...               No   \n",
              "1                No             DSL            Yes  ...              Yes   \n",
              "2                No             DSL            Yes  ...               No   \n",
              "3  No phone service             DSL            Yes  ...              Yes   \n",
              "4                No     Fiber optic             No  ...               No   \n",
              "\n",
              "  TechSupport StreamingTV StreamingMovies        Contract PaperlessBilling  \\\n",
              "0          No          No              No  Month-to-month              Yes   \n",
              "1          No          No              No        One year               No   \n",
              "2          No          No              No  Month-to-month              Yes   \n",
              "3         Yes          No              No        One year               No   \n",
              "4          No          No              No  Month-to-month              Yes   \n",
              "\n",
              "               PaymentMethod MonthlyCharges  TotalCharges Churn  \n",
              "0           Electronic check          29.85         29.85    No  \n",
              "1               Mailed check          56.95        1889.5    No  \n",
              "2               Mailed check          53.85        108.15   Yes  \n",
              "3  Bank transfer (automatic)          42.30       1840.75    No  \n",
              "4           Electronic check          70.70        151.65   Yes  \n",
              "\n",
              "[5 rows x 21 columns]"
            ]
          },
          "execution_count": 4,
          "metadata": {},
          "output_type": "execute_result"
        }
      ],
      "source": [
        "df.head()"
      ]
    },
    {
      "cell_type": "code",
      "execution_count": null,
      "id": "82ea8f73",
      "metadata": {
        "papermill": {
          "duration": 0.04523,
          "end_time": "2024-11-12T09:52:48.520014",
          "exception": false,
          "start_time": "2024-11-12T09:52:48.474784",
          "status": "completed"
        },
        "tags": [],
        "id": "82ea8f73"
      },
      "outputs": [],
      "source": [
        "df=df.drop(\"customerID\",axis=1)"
      ]
    },
    {
      "cell_type": "code",
      "execution_count": null,
      "id": "7698c1fd",
      "metadata": {
        "papermill": {
          "duration": 0.055403,
          "end_time": "2024-11-12T09:52:48.798908",
          "exception": false,
          "start_time": "2024-11-12T09:52:48.743505",
          "status": "completed"
        },
        "tags": [],
        "id": "7698c1fd",
        "outputId": "a7840ac9-167d-4e35-b7f8-16a20831c982"
      },
      "outputs": [
        {
          "name": "stdout",
          "output_type": "stream",
          "text": [
            "<class 'pandas.core.frame.DataFrame'>\n",
            "RangeIndex: 7043 entries, 0 to 7042\n",
            "Data columns (total 20 columns):\n",
            " #   Column            Non-Null Count  Dtype  \n",
            "---  ------            --------------  -----  \n",
            " 0   gender            7043 non-null   object \n",
            " 1   SeniorCitizen     7043 non-null   int64  \n",
            " 2   Partner           7043 non-null   object \n",
            " 3   Dependents        7043 non-null   object \n",
            " 4   tenure            7043 non-null   int64  \n",
            " 5   PhoneService      7043 non-null   object \n",
            " 6   MultipleLines     7043 non-null   object \n",
            " 7   InternetService   7043 non-null   object \n",
            " 8   OnlineSecurity    7043 non-null   object \n",
            " 9   OnlineBackup      7043 non-null   object \n",
            " 10  DeviceProtection  7043 non-null   object \n",
            " 11  TechSupport       7043 non-null   object \n",
            " 12  StreamingTV       7043 non-null   object \n",
            " 13  StreamingMovies   7043 non-null   object \n",
            " 14  Contract          7043 non-null   object \n",
            " 15  PaperlessBilling  7043 non-null   object \n",
            " 16  PaymentMethod     7043 non-null   object \n",
            " 17  MonthlyCharges    7043 non-null   float64\n",
            " 18  TotalCharges      7043 non-null   object \n",
            " 19  Churn             7043 non-null   object \n",
            "dtypes: float64(1), int64(2), object(17)\n",
            "memory usage: 1.1+ MB\n"
          ]
        }
      ],
      "source": [
        "df.info()"
      ]
    },
    {
      "cell_type": "code",
      "execution_count": null,
      "id": "e528b72c",
      "metadata": {
        "papermill": {
          "duration": 0.055392,
          "end_time": "2024-11-12T09:52:48.888725",
          "exception": false,
          "start_time": "2024-11-12T09:52:48.833333",
          "status": "completed"
        },
        "tags": [],
        "id": "e528b72c",
        "outputId": "2c92162e-d5a2-4ece-95b3-fd8f5d86726b"
      },
      "outputs": [
        {
          "data": {
            "text/html": [
              "<div>\n",
              "<style scoped>\n",
              "    .dataframe tbody tr th:only-of-type {\n",
              "        vertical-align: middle;\n",
              "    }\n",
              "\n",
              "    .dataframe tbody tr th {\n",
              "        vertical-align: top;\n",
              "    }\n",
              "\n",
              "    .dataframe thead th {\n",
              "        text-align: right;\n",
              "    }\n",
              "</style>\n",
              "<table border=\"1\" class=\"dataframe\">\n",
              "  <thead>\n",
              "    <tr style=\"text-align: right;\">\n",
              "      <th></th>\n",
              "      <th>SeniorCitizen</th>\n",
              "      <th>tenure</th>\n",
              "      <th>MonthlyCharges</th>\n",
              "    </tr>\n",
              "  </thead>\n",
              "  <tbody>\n",
              "    <tr>\n",
              "      <th>count</th>\n",
              "      <td>7043.000000</td>\n",
              "      <td>7043.000000</td>\n",
              "      <td>7043.000000</td>\n",
              "    </tr>\n",
              "    <tr>\n",
              "      <th>mean</th>\n",
              "      <td>0.162147</td>\n",
              "      <td>32.371149</td>\n",
              "      <td>64.761692</td>\n",
              "    </tr>\n",
              "    <tr>\n",
              "      <th>std</th>\n",
              "      <td>0.368612</td>\n",
              "      <td>24.559481</td>\n",
              "      <td>30.090047</td>\n",
              "    </tr>\n",
              "    <tr>\n",
              "      <th>min</th>\n",
              "      <td>0.000000</td>\n",
              "      <td>0.000000</td>\n",
              "      <td>18.250000</td>\n",
              "    </tr>\n",
              "    <tr>\n",
              "      <th>25%</th>\n",
              "      <td>0.000000</td>\n",
              "      <td>9.000000</td>\n",
              "      <td>35.500000</td>\n",
              "    </tr>\n",
              "    <tr>\n",
              "      <th>50%</th>\n",
              "      <td>0.000000</td>\n",
              "      <td>29.000000</td>\n",
              "      <td>70.350000</td>\n",
              "    </tr>\n",
              "    <tr>\n",
              "      <th>75%</th>\n",
              "      <td>0.000000</td>\n",
              "      <td>55.000000</td>\n",
              "      <td>89.850000</td>\n",
              "    </tr>\n",
              "    <tr>\n",
              "      <th>max</th>\n",
              "      <td>1.000000</td>\n",
              "      <td>72.000000</td>\n",
              "      <td>118.750000</td>\n",
              "    </tr>\n",
              "  </tbody>\n",
              "</table>\n",
              "</div>"
            ],
            "text/plain": [
              "       SeniorCitizen       tenure  MonthlyCharges\n",
              "count    7043.000000  7043.000000     7043.000000\n",
              "mean        0.162147    32.371149       64.761692\n",
              "std         0.368612    24.559481       30.090047\n",
              "min         0.000000     0.000000       18.250000\n",
              "25%         0.000000     9.000000       35.500000\n",
              "50%         0.000000    29.000000       70.350000\n",
              "75%         0.000000    55.000000       89.850000\n",
              "max         1.000000    72.000000      118.750000"
            ]
          },
          "execution_count": 13,
          "metadata": {},
          "output_type": "execute_result"
        }
      ],
      "source": [
        "df.describe()"
      ]
    },
    {
      "cell_type": "code",
      "execution_count": null,
      "id": "f96cd456",
      "metadata": {
        "papermill": {
          "duration": 0.052423,
          "end_time": "2024-11-12T09:52:48.976406",
          "exception": false,
          "start_time": "2024-11-12T09:52:48.923983",
          "status": "completed"
        },
        "tags": [],
        "id": "f96cd456"
      },
      "outputs": [],
      "source": [
        "# Replace any non-numeric values in 'TotalCharges' with NaN\n",
        "df[\"TotalCharges\"] = pd.to_numeric(df[\"TotalCharges\"], errors='coerce')\n",
        "df[\"TotalCharges\"].fillna(0, inplace=True)  # Replace NaNs with 0"
      ]
    },
    {
      "cell_type": "code",
      "execution_count": null,
      "id": "524adf2e",
      "metadata": {
        "papermill": {
          "duration": 0.045109,
          "end_time": "2024-11-12T09:52:49.218893",
          "exception": false,
          "start_time": "2024-11-12T09:52:49.173784",
          "status": "completed"
        },
        "tags": [],
        "id": "524adf2e",
        "outputId": "7d195063-08c2-499b-98ee-8a801914c82f"
      },
      "outputs": [
        {
          "data": {
            "text/plain": [
              "(7043, 20)"
            ]
          },
          "execution_count": 17,
          "metadata": {},
          "output_type": "execute_result"
        }
      ],
      "source": [
        "df.shape"
      ]
    },
    {
      "cell_type": "code",
      "execution_count": null,
      "id": "d2ef9b59",
      "metadata": {
        "papermill": {
          "duration": 0.062578,
          "end_time": "2024-11-12T09:52:49.486836",
          "exception": false,
          "start_time": "2024-11-12T09:52:49.424258",
          "status": "completed"
        },
        "tags": [],
        "id": "d2ef9b59",
        "outputId": "7fcf6cf9-5b5f-455c-86d0-62e39dfdaa60"
      },
      "outputs": [
        {
          "data": {
            "text/plain": [
              "gender              0\n",
              "SeniorCitizen       0\n",
              "Partner             0\n",
              "Dependents          0\n",
              "tenure              0\n",
              "PhoneService        0\n",
              "MultipleLines       0\n",
              "InternetService     0\n",
              "OnlineSecurity      0\n",
              "OnlineBackup        0\n",
              "DeviceProtection    0\n",
              "TechSupport         0\n",
              "StreamingTV         0\n",
              "StreamingMovies     0\n",
              "Contract            0\n",
              "PaperlessBilling    0\n",
              "PaymentMethod       0\n",
              "MonthlyCharges      0\n",
              "TotalCharges        0\n",
              "Churn               0\n",
              "dtype: int64"
            ]
          },
          "execution_count": 18,
          "metadata": {},
          "output_type": "execute_result"
        }
      ],
      "source": [
        "df.isnull().sum()"
      ]
    },
    {
      "cell_type": "code",
      "execution_count": null,
      "id": "7153c7a4",
      "metadata": {
        "papermill": {
          "duration": 0.045534,
          "end_time": "2024-11-12T09:52:49.567981",
          "exception": false,
          "start_time": "2024-11-12T09:52:49.522447",
          "status": "completed"
        },
        "tags": [],
        "id": "7153c7a4"
      },
      "outputs": [],
      "source": [
        "df[\"TotalCharges\"]=pd.to_numeric(df[\"TotalCharges\"])"
      ]
    },
    {
      "cell_type": "code",
      "execution_count": null,
      "id": "9b8a18c5",
      "metadata": {
        "papermill": {
          "duration": 0.047552,
          "end_time": "2024-11-12T09:52:49.651044",
          "exception": false,
          "start_time": "2024-11-12T09:52:49.603492",
          "status": "completed"
        },
        "tags": [],
        "id": "9b8a18c5",
        "outputId": "13f30463-f2b4-4335-a399-b2cb7c7babcd"
      },
      "outputs": [
        {
          "data": {
            "text/plain": [
              "dtype('float64')"
            ]
          },
          "execution_count": 20,
          "metadata": {},
          "output_type": "execute_result"
        }
      ],
      "source": [
        "df[\"TotalCharges\"].dtype"
      ]
    },
    {
      "cell_type": "code",
      "execution_count": null,
      "id": "10cb1e28",
      "metadata": {
        "papermill": {
          "duration": 0.077173,
          "end_time": "2024-11-12T09:52:49.764284",
          "exception": false,
          "start_time": "2024-11-12T09:52:49.687111",
          "status": "completed"
        },
        "tags": [],
        "id": "10cb1e28",
        "outputId": "dda6b248-85fd-4fed-fad4-4e8cd2f53aca"
      },
      "outputs": [
        {
          "name": "stdout",
          "output_type": "stream",
          "text": [
            "<class 'pandas.core.frame.DataFrame'>\n",
            "RangeIndex: 7043 entries, 0 to 7042\n",
            "Data columns (total 20 columns):\n",
            " #   Column            Non-Null Count  Dtype  \n",
            "---  ------            --------------  -----  \n",
            " 0   gender            7043 non-null   object \n",
            " 1   SeniorCitizen     7043 non-null   int64  \n",
            " 2   Partner           7043 non-null   object \n",
            " 3   Dependents        7043 non-null   object \n",
            " 4   tenure            7043 non-null   int64  \n",
            " 5   PhoneService      7043 non-null   object \n",
            " 6   MultipleLines     7043 non-null   object \n",
            " 7   InternetService   7043 non-null   object \n",
            " 8   OnlineSecurity    7043 non-null   object \n",
            " 9   OnlineBackup      7043 non-null   object \n",
            " 10  DeviceProtection  7043 non-null   object \n",
            " 11  TechSupport       7043 non-null   object \n",
            " 12  StreamingTV       7043 non-null   object \n",
            " 13  StreamingMovies   7043 non-null   object \n",
            " 14  Contract          7043 non-null   object \n",
            " 15  PaperlessBilling  7043 non-null   object \n",
            " 16  PaymentMethod     7043 non-null   object \n",
            " 17  MonthlyCharges    7043 non-null   float64\n",
            " 18  TotalCharges      7043 non-null   float64\n",
            " 19  Churn             7043 non-null   object \n",
            "dtypes: float64(2), int64(2), object(16)\n",
            "memory usage: 1.1+ MB\n"
          ]
        }
      ],
      "source": [
        "df.info()"
      ]
    },
    {
      "cell_type": "code",
      "execution_count": null,
      "id": "98fceae4",
      "metadata": {
        "papermill": {
          "duration": 0.052877,
          "end_time": "2024-11-12T09:52:49.955822",
          "exception": false,
          "start_time": "2024-11-12T09:52:49.902945",
          "status": "completed"
        },
        "tags": [],
        "id": "98fceae4"
      },
      "outputs": [],
      "source": [
        "MonthlyCharges_Churn_no=df[df[\"Churn\"]==\"No\"].MonthlyCharges\n",
        "MonthlyCharges_Churn_yes=df[df[\"Churn\"]==\"Yes\"].MonthlyCharges"
      ]
    },
    {
      "cell_type": "markdown",
      "id": "e1f7faa0-f73e-4e30-91b6-86003519bb86",
      "metadata": {
        "id": "e1f7faa0-f73e-4e30-91b6-86003519bb86"
      },
      "source": [
        "Visulization"
      ]
    },
    {
      "cell_type": "code",
      "execution_count": null,
      "id": "92eed58d",
      "metadata": {
        "papermill": {
          "duration": 0.679168,
          "end_time": "2024-11-12T09:52:50.745037",
          "exception": false,
          "start_time": "2024-11-12T09:52:50.065869",
          "status": "completed"
        },
        "tags": [],
        "id": "92eed58d",
        "outputId": "ac30669f-198a-4ab5-dea0-17134c443577"
      },
      "outputs": [
        {
          "data": {
            "text/plain": [
              "Text(0.5, 1.0, 'Density Plot of Monthly Charges by Churn')"
            ]
          },
          "execution_count": 24,
          "metadata": {},
          "output_type": "execute_result"
        },
        {
          "data": {
            "image/png": "[encoded data removed]",
            "text/plain": [
              "<Figure size 1400x600 with 1 Axes>"
            ]
          },
          "metadata": {},
          "output_type": "display_data"
        }
      ],
      "source": [
        "plt.figure(figsize=(14, 6))\n",
        "plt.subplot(1, 2, 1);\n",
        "sns.kdeplot(MonthlyCharges_Churn_no, label=\"No Churn\", color=\"darkblue\", fill=True, alpha=0.5);\n",
        "sns.kdeplot(MonthlyCharges_Churn_yes, label=\"Churn\", color=\"darkred\", fill=True, alpha=0.5);\n",
        "plt.xlabel(\"Monthly Charges\")\n",
        "plt.ylabel(\"Density\")\n",
        "plt.legend()\n",
        "plt.title(\"Density Plot of Monthly Charges by Churn\")"
      ]
    },
    {
      "cell_type": "code",
      "execution_count": null,
      "id": "389de561",
      "metadata": {
        "papermill": {
          "duration": 0.393391,
          "end_time": "2024-11-12T09:52:51.175334",
          "exception": false,
          "start_time": "2024-11-12T09:52:50.781943",
          "status": "completed"
        },
        "tags": [],
        "id": "389de561",
        "outputId": "fba81063-d41c-42f7-c7de-80da2cf3ff44"
      },
      "outputs": [
        {
          "data": {
            "image/png": "[encoded data removed]",
            "text/plain": [
              "<Figure size 640x480 with 1 Axes>"
            ]
          },
          "metadata": {},
          "output_type": "display_data"
        }
      ],
      "source": [
        "plt.subplot(1, 2, 2)\n",
        "sns.boxplot(data=[MonthlyCharges_Churn_no, MonthlyCharges_Churn_yes], palette=[\"darkblue\", \"darkred\"])\n",
        "plt.xticks([0, 1], [\"No Churn\", \"Churn\"])\n",
        "plt.xlabel(\"Churn Status\")\n",
        "plt.ylabel(\"Monthly Charges\")\n",
        "plt.title(\"Box Plot of Monthly Charges by Churn\")\n",
        "\n",
        "plt.suptitle(\"Churn Analysis with Monthly Charges\", fontsize=16)\n",
        "plt.tight_layout(rect=[0, 0, 1, 0.95])\n",
        "plt.show()"
      ]
    },
    {
      "cell_type": "code",
      "execution_count": null,
      "id": "d69d7c64",
      "metadata": {
        "papermill": {
          "duration": 0.053898,
          "end_time": "2024-11-12T09:52:51.266552",
          "exception": false,
          "start_time": "2024-11-12T09:52:51.212654",
          "status": "completed"
        },
        "tags": [],
        "id": "d69d7c64"
      },
      "outputs": [],
      "source": [
        "Tenure_CHurn_no=df[df[\"Churn\"]==\"No\"].tenure\n",
        "Tenure_CHurn_yes=df[df[\"Churn\"]==\"Yes\"].tenure"
      ]
    },
    {
      "cell_type": "code",
      "execution_count": null,
      "id": "950f4c23",
      "metadata": {
        "papermill": {
          "duration": 0.447463,
          "end_time": "2024-11-12T09:52:51.753427",
          "exception": false,
          "start_time": "2024-11-12T09:52:51.305964",
          "status": "completed"
        },
        "tags": [],
        "id": "950f4c23",
        "outputId": "ac521a16-759a-4576-a009-3e16afb3ad59"
      },
      "outputs": [
        {
          "data": {
            "text/plain": [
              "Text(0.5, 1.0, 'Churn With tenure')"
            ]
          },
          "execution_count": 27,
          "metadata": {},
          "output_type": "execute_result"
        },
        {
          "data": {
            "image/png": "[encoded data removed]",
            "text/plain": [
              "<Figure size 640x480 with 1 Axes>"
            ]
          },
          "metadata": {},
          "output_type": "display_data"
        }
      ],
      "source": [
        "plt.hist([Tenure_CHurn_yes,Tenure_CHurn_no],color=[\"green\",\"red\"],label=[\"Churn=yes\",\"Churn=no\"])\n",
        "plt.xlabel(\"Tenure\")\n",
        "plt.ylabel(\"No of cutomers\")\n",
        "plt.legend()\n",
        "plt.title(\"Churn With tenure\")\n"
      ]
    },
    {
      "cell_type": "code",
      "execution_count": null,
      "id": "de1a4015",
      "metadata": {
        "papermill": {
          "duration": 0.056471,
          "end_time": "2024-11-12T09:52:51.848492",
          "exception": false,
          "start_time": "2024-11-12T09:52:51.792021",
          "status": "completed"
        },
        "tags": [],
        "id": "de1a4015"
      },
      "outputs": [],
      "source": [
        "TotalCharges_Churn_yes=df[df[\"Churn\"]==\"Yes\"].TotalCharges\n",
        "TotalCharges_Churn_no=df[df[\"Churn\"]==\"No\"].TotalCharges"
      ]
    },
    {
      "cell_type": "code",
      "execution_count": null,
      "id": "b6e08841",
      "metadata": {
        "papermill": {
          "duration": 0.420084,
          "end_time": "2024-11-12T09:52:52.306753",
          "exception": false,
          "start_time": "2024-11-12T09:52:51.886669",
          "status": "completed"
        },
        "tags": [],
        "id": "b6e08841",
        "outputId": "a138a56a-b4f6-4191-c947-ed760a99d80d"
      },
      "outputs": [
        {
          "data": {
            "text/plain": [
              "Text(0.5, 1.0, 'Churn With Total Charges')"
            ]
          },
          "execution_count": 29,
          "metadata": {},
          "output_type": "execute_result"
        },
        {
          "data": {
            "image/png": "[encoded data removed]",
            "text/plain": [
              "<Figure size 640x480 with 1 Axes>"
            ]
          },
          "metadata": {},
          "output_type": "display_data"
        }
      ],
      "source": [
        "plt.hist([TotalCharges_Churn_yes,TotalCharges_Churn_no],color=[\"green\",\"yellow\"],label=[\"Churn=yes\",\"Churn=No\"])\n",
        "plt.xlabel(\"TotalCharges\")\n",
        "plt.ylabel(\"No of Customers\")\n",
        "plt.legend()\n",
        "plt.title(\"Churn With Total Charges\")"
      ]
    },
    {
      "cell_type": "code",
      "execution_count": null,
      "id": "e08b1b90",
      "metadata": {
        "papermill": {
          "duration": 0.116886,
          "end_time": "2024-11-12T09:52:52.659549",
          "exception": false,
          "start_time": "2024-11-12T09:52:52.542663",
          "status": "completed"
        },
        "tags": [],
        "id": "e08b1b90",
        "outputId": "570d1960-6bba-4dd9-b4ea-8f265646f3dc"
      },
      "outputs": [
        {
          "name": "stdout",
          "output_type": "stream",
          "text": [
            "gender : ['Female' 'Male']\n",
            "Partner : ['Yes' 'No']\n",
            "Dependents : ['No' 'Yes']\n",
            "PhoneService : ['No' 'Yes']\n",
            "MultipleLines : ['No phone service' 'No' 'Yes']\n",
            "InternetService : ['DSL' 'Fiber optic' 'No']\n",
            "OnlineSecurity : ['No' 'Yes' 'No internet service']\n",
            "OnlineBackup : ['Yes' 'No' 'No internet service']\n",
            "DeviceProtection : ['No' 'Yes' 'No internet service']\n",
            "TechSupport : ['No' 'Yes' 'No internet service']\n",
            "StreamingTV : ['No' 'Yes' 'No internet service']\n",
            "StreamingMovies : ['No' 'Yes' 'No internet service']\n",
            "Contract : ['Month-to-month' 'One year' 'Two year']\n",
            "PaperlessBilling : ['Yes' 'No']\n",
            "PaymentMethod : ['Electronic check' 'Mailed check' 'Bank transfer (automatic)'\n",
            " 'Credit card (automatic)']\n",
            "Churn : ['No' 'Yes']\n"
          ]
        }
      ],
      "source": [
        "for i in df.columns:\n",
        "    if df[i].dtypes==\"object\":\n",
        "        print(i,\":\",df[i].unique())"
      ]
    },
    {
      "cell_type": "code",
      "execution_count": null,
      "id": "27327ba2",
      "metadata": {
        "papermill": {
          "duration": 0.048963,
          "end_time": "2024-11-12T09:52:52.747749",
          "exception": false,
          "start_time": "2024-11-12T09:52:52.698786",
          "status": "completed"
        },
        "tags": [],
        "id": "27327ba2"
      },
      "outputs": [],
      "source": [
        "Col_to_be_renamed=[\"StreamingMovies\",\"StreamingTV\",\"TechSupport\",\"DeviceProtection\",\"OnlineBackup\",\"OnlineSecurity\"]"
      ]
    },
    {
      "cell_type": "code",
      "execution_count": null,
      "id": "c77deac4",
      "metadata": {
        "papermill": {
          "duration": 0.065197,
          "end_time": "2024-11-12T09:52:52.853346",
          "exception": false,
          "start_time": "2024-11-12T09:52:52.788149",
          "status": "completed"
        },
        "tags": [],
        "id": "c77deac4"
      },
      "outputs": [],
      "source": [
        "for i in Col_to_be_renamed:\n",
        "    if 'No internet service' in df[i].unique():\n",
        "        df[i].replace('No internet service',\"No\",inplace=True)"
      ]
    },
    {
      "cell_type": "code",
      "execution_count": null,
      "id": "595a0a52",
      "metadata": {
        "papermill": {
          "duration": 0.054485,
          "end_time": "2024-11-12T09:52:52.947050",
          "exception": false,
          "start_time": "2024-11-12T09:52:52.892565",
          "status": "completed"
        },
        "tags": [],
        "id": "595a0a52",
        "outputId": "ff05cd6d-679d-42a4-a1ca-2f10839c939b"
      },
      "outputs": [
        {
          "name": "stdout",
          "output_type": "stream",
          "text": [
            "StreamingMovies : ['No' 'Yes']\n",
            "StreamingTV : ['No' 'Yes']\n",
            "TechSupport : ['No' 'Yes']\n",
            "DeviceProtection : ['No' 'Yes']\n",
            "OnlineBackup : ['Yes' 'No']\n",
            "OnlineSecurity : ['No' 'Yes']\n"
          ]
        }
      ],
      "source": [
        "for j in Col_to_be_renamed:\n",
        " print(j,\":\",df[j].unique())"
      ]
    },
    {
      "cell_type": "code",
      "execution_count": null,
      "id": "71949b54",
      "metadata": {
        "papermill": {
          "duration": 0.063957,
          "end_time": "2024-11-12T09:52:53.051030",
          "exception": false,
          "start_time": "2024-11-12T09:52:52.987073",
          "status": "completed"
        },
        "tags": [],
        "id": "71949b54",
        "outputId": "b7cf7f37-8adb-45f9-a4bd-5855f0613266"
      },
      "outputs": [
        {
          "name": "stdout",
          "output_type": "stream",
          "text": [
            "gender : ['Female' 'Male']\n",
            "Partner : ['Yes' 'No']\n",
            "Dependents : ['No' 'Yes']\n",
            "PhoneService : ['No' 'Yes']\n",
            "MultipleLines : ['No phone service' 'No' 'Yes']\n",
            "InternetService : ['DSL' 'Fiber optic' 'No']\n",
            "OnlineSecurity : ['No' 'Yes']\n",
            "OnlineBackup : ['Yes' 'No']\n",
            "DeviceProtection : ['No' 'Yes']\n",
            "TechSupport : ['No' 'Yes']\n",
            "StreamingTV : ['No' 'Yes']\n",
            "StreamingMovies : ['No' 'Yes']\n",
            "Contract : ['Month-to-month' 'One year' 'Two year']\n",
            "PaperlessBilling : ['Yes' 'No']\n",
            "PaymentMethod : ['Electronic check' 'Mailed check' 'Bank transfer (automatic)'\n",
            " 'Credit card (automatic)']\n",
            "Churn : ['No' 'Yes']\n"
          ]
        }
      ],
      "source": [
        "for i in df.columns:\n",
        "     if df[i].dtypes==\"object\":\n",
        "         print(i,\":\",df[i].unique())"
      ]
    },
    {
      "cell_type": "code",
      "execution_count": null,
      "id": "38b46441",
      "metadata": {
        "papermill": {
          "duration": 0.050336,
          "end_time": "2024-11-12T09:52:53.142193",
          "exception": false,
          "start_time": "2024-11-12T09:52:53.091857",
          "status": "completed"
        },
        "tags": [],
        "id": "38b46441"
      },
      "outputs": [],
      "source": [
        "df[\"MultipleLines\"]=df[\"MultipleLines\"].astype(\"str\")"
      ]
    },
    {
      "cell_type": "code",
      "execution_count": null,
      "id": "c9769e2d",
      "metadata": {
        "papermill": {
          "duration": 0.051648,
          "end_time": "2024-11-12T09:52:53.234943",
          "exception": false,
          "start_time": "2024-11-12T09:52:53.183295",
          "status": "completed"
        },
        "tags": [],
        "id": "c9769e2d"
      },
      "outputs": [],
      "source": [
        "df[\"MultipleLines\"].replace('No phone service',\"No\",inplace=True)"
      ]
    },
    {
      "cell_type": "code",
      "execution_count": null,
      "id": "910face8",
      "metadata": {
        "papermill": {
          "duration": 0.064975,
          "end_time": "2024-11-12T09:52:53.339770",
          "exception": false,
          "start_time": "2024-11-12T09:52:53.274795",
          "status": "completed"
        },
        "tags": [],
        "id": "910face8",
        "outputId": "67d25ce0-2b02-4e13-8eec-34b141dd3af7"
      },
      "outputs": [
        {
          "name": "stdout",
          "output_type": "stream",
          "text": [
            "gender : ['Female' 'Male']\n",
            "Partner : ['Yes' 'No']\n",
            "Dependents : ['No' 'Yes']\n",
            "PhoneService : ['No' 'Yes']\n",
            "MultipleLines : ['No' 'Yes']\n",
            "InternetService : ['DSL' 'Fiber optic' 'No']\n",
            "OnlineSecurity : ['No' 'Yes']\n",
            "OnlineBackup : ['Yes' 'No']\n",
            "DeviceProtection : ['No' 'Yes']\n",
            "TechSupport : ['No' 'Yes']\n",
            "StreamingTV : ['No' 'Yes']\n",
            "StreamingMovies : ['No' 'Yes']\n",
            "Contract : ['Month-to-month' 'One year' 'Two year']\n",
            "PaperlessBilling : ['Yes' 'No']\n",
            "PaymentMethod : ['Electronic check' 'Mailed check' 'Bank transfer (automatic)'\n",
            " 'Credit card (automatic)']\n",
            "Churn : ['No' 'Yes']\n"
          ]
        }
      ],
      "source": [
        "for i in df.columns:\n",
        "     if df[i].dtypes==\"object\":\n",
        "         print(i,\":\",df[i].unique())"
      ]
    },
    {
      "cell_type": "code",
      "execution_count": null,
      "id": "0f8a2780",
      "metadata": {
        "papermill": {
          "duration": 0.056505,
          "end_time": "2024-11-12T09:52:53.436014",
          "exception": false,
          "start_time": "2024-11-12T09:52:53.379509",
          "status": "completed"
        },
        "tags": [],
        "id": "0f8a2780"
      },
      "outputs": [],
      "source": [
        "df[\"gender\"]=df[\"gender\"].apply(lambda x:0 if x==\"Female\" else 1)"
      ]
    },
    {
      "cell_type": "code",
      "execution_count": null,
      "id": "44e0acd3",
      "metadata": {
        "papermill": {
          "duration": 0.055548,
          "end_time": "2024-11-12T09:52:53.531493",
          "exception": false,
          "start_time": "2024-11-12T09:52:53.475945",
          "status": "completed"
        },
        "tags": [],
        "id": "44e0acd3",
        "outputId": "1d06acbb-af6d-4ecd-b9f5-02376bdac9d3"
      },
      "outputs": [
        {
          "data": {
            "text/plain": [
              "gender\n",
              "1    3555\n",
              "0    3488\n",
              "Name: count, dtype: int64"
            ]
          },
          "execution_count": 60,
          "metadata": {},
          "output_type": "execute_result"
        }
      ],
      "source": [
        "df[\"gender\"].value_counts()"
      ]
    },
    {
      "cell_type": "code",
      "execution_count": null,
      "id": "23baeca5",
      "metadata": {
        "papermill": {
          "duration": 0.066725,
          "end_time": "2024-11-12T09:52:53.638300",
          "exception": false,
          "start_time": "2024-11-12T09:52:53.571575",
          "status": "completed"
        },
        "tags": [],
        "id": "23baeca5",
        "outputId": "4e1341a0-1e23-4565-81dc-fc9eb7a70207"
      },
      "outputs": [
        {
          "name": "stdout",
          "output_type": "stream",
          "text": [
            "gender : [0 1]\n",
            "SeniorCitizen : [0 1]\n",
            "Partner : ['Yes' 'No']\n",
            "Dependents : ['No' 'Yes']\n",
            "tenure : [ 1 34  2 45  8 22 10 28 62 13 16 58 49 25 69 52 71 21 12 30 47 72 17 27\n",
            "  5 46 11 70 63 43 15 60 18 66  9  3 31 50 64 56  7 42 35 48 29 65 38 68\n",
            " 32 55 37 36 41  6  4 33 67 23 57 61 14 20 53 40 59 24 44 19 54 51 26  0\n",
            " 39]\n",
            "PhoneService : ['No' 'Yes']\n",
            "MultipleLines : ['No' 'Yes']\n",
            "InternetService : ['DSL' 'Fiber optic' 'No']\n",
            "OnlineSecurity : ['No' 'Yes']\n",
            "OnlineBackup : ['Yes' 'No']\n",
            "DeviceProtection : ['No' 'Yes']\n",
            "TechSupport : ['No' 'Yes']\n",
            "StreamingTV : ['No' 'Yes']\n",
            "StreamingMovies : ['No' 'Yes']\n",
            "Contract : ['Month-to-month' 'One year' 'Two year']\n",
            "PaperlessBilling : ['Yes' 'No']\n",
            "PaymentMethod : ['Electronic check' 'Mailed check' 'Bank transfer (automatic)'\n",
            " 'Credit card (automatic)']\n",
            "MonthlyCharges : [29.85 56.95 53.85 ... 63.1  44.2  78.7 ]\n",
            "TotalCharges : [  29.85 1889.5   108.15 ...  346.45  306.6  6844.5 ]\n",
            "Churn : ['No' 'Yes']\n"
          ]
        }
      ],
      "source": [
        "for column in df:\n",
        "     print(column,\":\",df[column].unique())"
      ]
    },
    {
      "cell_type": "code",
      "execution_count": null,
      "id": "97ae99d6",
      "metadata": {
        "papermill": {
          "duration": 0.04975,
          "end_time": "2024-11-12T09:52:53.728247",
          "exception": false,
          "start_time": "2024-11-12T09:52:53.678497",
          "status": "completed"
        },
        "tags": [],
        "id": "97ae99d6"
      },
      "outputs": [],
      "source": [
        "yes_no = [\"Partner\", \"Dependents\", \"Churn\", \"PaperlessBilling\", \"StreamingMovies\",\n",
        "          \"StreamingTV\", \"TechSupport\", \"DeviceProtection\", \"TechSupport\",\n",
        "          \"StreamingTV\", \"StreamingMovies\", \"Contract\", \"PaperlessBilling\",\n",
        "          \"PaymentMethod\", \"MonthlyCharges\", \"TotalCharges\"]\n"
      ]
    },
    {
      "cell_type": "code",
      "execution_count": null,
      "id": "b1cd3c16",
      "metadata": {
        "papermill": {
          "duration": 0.051687,
          "end_time": "2024-11-12T09:52:53.820010",
          "exception": false,
          "start_time": "2024-11-12T09:52:53.768323",
          "status": "completed"
        },
        "tags": [],
        "id": "b1cd3c16"
      },
      "outputs": [],
      "source": [
        "# Assuming `df` is your DataFrame\n",
        "df_yes_no = df[yes_no]"
      ]
    },
    {
      "cell_type": "code",
      "execution_count": null,
      "id": "0d606981",
      "metadata": {
        "papermill": {
          "duration": 0.05158,
          "end_time": "2024-11-12T09:52:53.912657",
          "exception": false,
          "start_time": "2024-11-12T09:52:53.861077",
          "status": "completed"
        },
        "tags": [],
        "id": "0d606981",
        "outputId": "782a8cf4-9294-43cc-dd6d-fbb3b57221a3"
      },
      "outputs": [
        {
          "data": {
            "text/plain": [
              "Index(['gender', 'SeniorCitizen', 'Partner', 'Dependents', 'tenure',\n",
              "       'PhoneService', 'MultipleLines', 'InternetService', 'OnlineSecurity',\n",
              "       'OnlineBackup', 'DeviceProtection', 'TechSupport', 'StreamingTV',\n",
              "       'StreamingMovies', 'Contract', 'PaperlessBilling', 'PaymentMethod',\n",
              "       'MonthlyCharges', 'TotalCharges', 'Churn'],\n",
              "      dtype='object')"
            ]
          },
          "execution_count": 68,
          "metadata": {},
          "output_type": "execute_result"
        }
      ],
      "source": [
        "df.columns"
      ]
    },
    {
      "cell_type": "code",
      "execution_count": null,
      "id": "c2beb9cd",
      "metadata": {
        "papermill": {
          "duration": 0.147179,
          "end_time": "2024-11-12T09:52:54.100418",
          "exception": false,
          "start_time": "2024-11-12T09:52:53.953239",
          "status": "completed"
        },
        "tags": [],
        "id": "c2beb9cd"
      },
      "outputs": [],
      "source": [
        "for i in yes_no:\n",
        "     df[i]=df[i].apply(lambda x:1 if x==\"Yes\" else 0)"
      ]
    },
    {
      "cell_type": "code",
      "execution_count": null,
      "id": "354797db",
      "metadata": {
        "papermill": {
          "duration": 0.059359,
          "end_time": "2024-11-12T09:52:54.199853",
          "exception": false,
          "start_time": "2024-11-12T09:52:54.140494",
          "status": "completed"
        },
        "tags": [],
        "id": "354797db",
        "outputId": "598ce51f-dedf-419a-c3d5-f03f15d6d849"
      },
      "outputs": [
        {
          "name": "stdout",
          "output_type": "stream",
          "text": [
            "gender : [0 1]\n",
            "SeniorCitizen : [0 1]\n",
            "Partner : [1 0]\n",
            "Dependents : [0 1]\n",
            "tenure : [ 1 34  2 45  8 22 10 28 62 13 16 58 49 25 69 52 71 21 12 30 47 72 17 27\n",
            "  5 46 11 70 63 43 15 60 18 66  9  3 31 50 64 56  7 42 35 48 29 65 38 68\n",
            " 32 55 37 36 41  6  4 33 67 23 57 61 14 20 53 40 59 24 44 19 54 51 26  0\n",
            " 39]\n",
            "PhoneService : ['No' 'Yes']\n",
            "MultipleLines : ['No' 'Yes']\n",
            "InternetService : ['DSL' 'Fiber optic' 'No']\n",
            "OnlineSecurity : ['No' 'Yes']\n",
            "OnlineBackup : ['Yes' 'No']\n",
            "DeviceProtection : [0 1]\n",
            "TechSupport : [0]\n",
            "StreamingTV : [0]\n",
            "StreamingMovies : [0]\n",
            "Contract : [0]\n",
            "PaperlessBilling : [0]\n",
            "PaymentMethod : [0]\n",
            "MonthlyCharges : [0]\n",
            "TotalCharges : [0]\n",
            "Churn : [0 1]\n"
          ]
        }
      ],
      "source": [
        "for column in df:\n",
        " print(column,\":\",df[column].unique())"
      ]
    },
    {
      "cell_type": "code",
      "execution_count": null,
      "id": "090cb6a1",
      "metadata": {
        "papermill": {
          "duration": 0.063689,
          "end_time": "2024-11-12T09:52:54.303512",
          "exception": false,
          "start_time": "2024-11-12T09:52:54.239823",
          "status": "completed"
        },
        "tags": [],
        "id": "090cb6a1",
        "outputId": "0a8c5990-e400-412d-e59b-8c5fb17495cc"
      },
      "outputs": [
        {
          "name": "stdout",
          "output_type": "stream",
          "text": [
            "<class 'pandas.core.frame.DataFrame'>\n",
            "RangeIndex: 7043 entries, 0 to 7042\n",
            "Data columns (total 20 columns):\n",
            " #   Column            Non-Null Count  Dtype \n",
            "---  ------            --------------  ----- \n",
            " 0   gender            7043 non-null   int64 \n",
            " 1   SeniorCitizen     7043 non-null   int64 \n",
            " 2   Partner           7043 non-null   int64 \n",
            " 3   Dependents        7043 non-null   int64 \n",
            " 4   tenure            7043 non-null   int64 \n",
            " 5   PhoneService      7043 non-null   object\n",
            " 6   MultipleLines     7043 non-null   object\n",
            " 7   InternetService   7043 non-null   object\n",
            " 8   OnlineSecurity    7043 non-null   object\n",
            " 9   OnlineBackup      7043 non-null   object\n",
            " 10  DeviceProtection  7043 non-null   int64 \n",
            " 11  TechSupport       7043 non-null   int64 \n",
            " 12  StreamingTV       7043 non-null   int64 \n",
            " 13  StreamingMovies   7043 non-null   int64 \n",
            " 14  Contract          7043 non-null   int64 \n",
            " 15  PaperlessBilling  7043 non-null   int64 \n",
            " 16  PaymentMethod     7043 non-null   int64 \n",
            " 17  MonthlyCharges    7043 non-null   int64 \n",
            " 18  TotalCharges      7043 non-null   int64 \n",
            " 19  Churn             7043 non-null   int64 \n",
            "dtypes: int64(15), object(5)\n",
            "memory usage: 1.1+ MB\n"
          ]
        }
      ],
      "source": [
        "df.info()"
      ]
    },
    {
      "cell_type": "code",
      "execution_count": null,
      "id": "00daa682",
      "metadata": {
        "papermill": {
          "duration": 0.049467,
          "end_time": "2024-11-12T09:52:54.394060",
          "exception": false,
          "start_time": "2024-11-12T09:52:54.344593",
          "status": "completed"
        },
        "tags": [],
        "id": "00daa682"
      },
      "outputs": [],
      "source": [
        "onehot=[\"Contract\",\"PaymentMethod\",\"InternetService\"]"
      ]
    },
    {
      "cell_type": "code",
      "execution_count": null,
      "id": "6d417383",
      "metadata": {
        "papermill": {
          "duration": 0.059852,
          "end_time": "2024-11-12T09:52:54.495349",
          "exception": false,
          "start_time": "2024-11-12T09:52:54.435497",
          "status": "completed"
        },
        "tags": [],
        "id": "6d417383"
      },
      "outputs": [],
      "source": [
        "df1=pd.get_dummies(data=df,columns=onehot)"
      ]
    },
    {
      "cell_type": "code",
      "execution_count": null,
      "id": "f641effa",
      "metadata": {
        "papermill": {
          "duration": 0.069287,
          "end_time": "2024-11-12T09:52:54.606038",
          "exception": false,
          "start_time": "2024-11-12T09:52:54.536751",
          "status": "completed"
        },
        "tags": [],
        "id": "f641effa",
        "outputId": "4d17542f-4f63-4a11-ead1-a89666e80139"
      },
      "outputs": [
        {
          "data": {
            "text/html": [
              "<div>\n",
              "<style scoped>\n",
              "    .dataframe tbody tr th:only-of-type {\n",
              "        vertical-align: middle;\n",
              "    }\n",
              "\n",
              "    .dataframe tbody tr th {\n",
              "        vertical-align: top;\n",
              "    }\n",
              "\n",
              "    .dataframe thead th {\n",
              "        text-align: right;\n",
              "    }\n",
              "</style>\n",
              "<table border=\"1\" class=\"dataframe\">\n",
              "  <thead>\n",
              "    <tr style=\"text-align: right;\">\n",
              "      <th></th>\n",
              "      <th>gender</th>\n",
              "      <th>SeniorCitizen</th>\n",
              "      <th>Partner</th>\n",
              "      <th>Dependents</th>\n",
              "      <th>tenure</th>\n",
              "      <th>PhoneService</th>\n",
              "      <th>MultipleLines</th>\n",
              "      <th>OnlineSecurity</th>\n",
              "      <th>OnlineBackup</th>\n",
              "      <th>DeviceProtection</th>\n",
              "      <th>...</th>\n",
              "      <th>StreamingMovies</th>\n",
              "      <th>PaperlessBilling</th>\n",
              "      <th>MonthlyCharges</th>\n",
              "      <th>TotalCharges</th>\n",
              "      <th>Churn</th>\n",
              "      <th>Contract_0</th>\n",
              "      <th>PaymentMethod_0</th>\n",
              "      <th>InternetService_DSL</th>\n",
              "      <th>InternetService_Fiber optic</th>\n",
              "      <th>InternetService_No</th>\n",
              "    </tr>\n",
              "  </thead>\n",
              "  <tbody>\n",
              "    <tr>\n",
              "      <th>0</th>\n",
              "      <td>0</td>\n",
              "      <td>0</td>\n",
              "      <td>1</td>\n",
              "      <td>0</td>\n",
              "      <td>1</td>\n",
              "      <td>No</td>\n",
              "      <td>No</td>\n",
              "      <td>No</td>\n",
              "      <td>Yes</td>\n",
              "      <td>0</td>\n",
              "      <td>...</td>\n",
              "      <td>0</td>\n",
              "      <td>0</td>\n",
              "      <td>0</td>\n",
              "      <td>0</td>\n",
              "      <td>0</td>\n",
              "      <td>True</td>\n",
              "      <td>True</td>\n",
              "      <td>True</td>\n",
              "      <td>False</td>\n",
              "      <td>False</td>\n",
              "    </tr>\n",
              "    <tr>\n",
              "      <th>1</th>\n",
              "      <td>1</td>\n",
              "      <td>0</td>\n",
              "      <td>0</td>\n",
              "      <td>0</td>\n",
              "      <td>34</td>\n",
              "      <td>Yes</td>\n",
              "      <td>No</td>\n",
              "      <td>Yes</td>\n",
              "      <td>No</td>\n",
              "      <td>1</td>\n",
              "      <td>...</td>\n",
              "      <td>0</td>\n",
              "      <td>0</td>\n",
              "      <td>0</td>\n",
              "      <td>0</td>\n",
              "      <td>0</td>\n",
              "      <td>True</td>\n",
              "      <td>True</td>\n",
              "      <td>True</td>\n",
              "      <td>False</td>\n",
              "      <td>False</td>\n",
              "    </tr>\n",
              "    <tr>\n",
              "      <th>2</th>\n",
              "      <td>1</td>\n",
              "      <td>0</td>\n",
              "      <td>0</td>\n",
              "      <td>0</td>\n",
              "      <td>2</td>\n",
              "      <td>Yes</td>\n",
              "      <td>No</td>\n",
              "      <td>Yes</td>\n",
              "      <td>Yes</td>\n",
              "      <td>0</td>\n",
              "      <td>...</td>\n",
              "      <td>0</td>\n",
              "      <td>0</td>\n",
              "      <td>0</td>\n",
              "      <td>0</td>\n",
              "      <td>1</td>\n",
              "      <td>True</td>\n",
              "      <td>True</td>\n",
              "      <td>True</td>\n",
              "      <td>False</td>\n",
              "      <td>False</td>\n",
              "    </tr>\n",
              "    <tr>\n",
              "      <th>3</th>\n",
              "      <td>1</td>\n",
              "      <td>0</td>\n",
              "      <td>0</td>\n",
              "      <td>0</td>\n",
              "      <td>45</td>\n",
              "      <td>No</td>\n",
              "      <td>No</td>\n",
              "      <td>Yes</td>\n",
              "      <td>No</td>\n",
              "      <td>1</td>\n",
              "      <td>...</td>\n",
              "      <td>0</td>\n",
              "      <td>0</td>\n",
              "      <td>0</td>\n",
              "      <td>0</td>\n",
              "      <td>0</td>\n",
              "      <td>True</td>\n",
              "      <td>True</td>\n",
              "      <td>True</td>\n",
              "      <td>False</td>\n",
              "      <td>False</td>\n",
              "    </tr>\n",
              "    <tr>\n",
              "      <th>4</th>\n",
              "      <td>0</td>\n",
              "      <td>0</td>\n",
              "      <td>0</td>\n",
              "      <td>0</td>\n",
              "      <td>2</td>\n",
              "      <td>Yes</td>\n",
              "      <td>No</td>\n",
              "      <td>No</td>\n",
              "      <td>No</td>\n",
              "      <td>0</td>\n",
              "      <td>...</td>\n",
              "      <td>0</td>\n",
              "      <td>0</td>\n",
              "      <td>0</td>\n",
              "      <td>0</td>\n",
              "      <td>1</td>\n",
              "      <td>True</td>\n",
              "      <td>True</td>\n",
              "      <td>False</td>\n",
              "      <td>True</td>\n",
              "      <td>False</td>\n",
              "    </tr>\n",
              "  </tbody>\n",
              "</table>\n",
              "<p>5 rows × 22 columns</p>\n",
              "</div>"
            ],
            "text/plain": [
              "   gender  SeniorCitizen  Partner  Dependents  tenure PhoneService  \\\n",
              "0       0              0        1           0       1           No   \n",
              "1       1              0        0           0      34          Yes   \n",
              "2       1              0        0           0       2          Yes   \n",
              "3       1              0        0           0      45           No   \n",
              "4       0              0        0           0       2          Yes   \n",
              "\n",
              "  MultipleLines OnlineSecurity OnlineBackup  DeviceProtection  ...  \\\n",
              "0            No             No          Yes                 0  ...   \n",
              "1            No            Yes           No                 1  ...   \n",
              "2            No            Yes          Yes                 0  ...   \n",
              "3            No            Yes           No                 1  ...   \n",
              "4            No             No           No                 0  ...   \n",
              "\n",
              "   StreamingMovies  PaperlessBilling  MonthlyCharges  TotalCharges  Churn  \\\n",
              "0                0                 0               0             0      0   \n",
              "1                0                 0               0             0      0   \n",
              "2                0                 0               0             0      1   \n",
              "3                0                 0               0             0      0   \n",
              "4                0                 0               0             0      1   \n",
              "\n",
              "   Contract_0  PaymentMethod_0  InternetService_DSL  \\\n",
              "0        True             True                 True   \n",
              "1        True             True                 True   \n",
              "2        True             True                 True   \n",
              "3        True             True                 True   \n",
              "4        True             True                False   \n",
              "\n",
              "   InternetService_Fiber optic  InternetService_No  \n",
              "0                        False               False  \n",
              "1                        False               False  \n",
              "2                        False               False  \n",
              "3                        False               False  \n",
              "4                         True               False  \n",
              "\n",
              "[5 rows x 22 columns]"
            ]
          },
          "execution_count": 80,
          "metadata": {},
          "output_type": "execute_result"
        }
      ],
      "source": [
        "df1.head()"
      ]
    },
    {
      "cell_type": "code",
      "execution_count": null,
      "id": "9a9a77e3",
      "metadata": {
        "papermill": {
          "duration": 0.061236,
          "end_time": "2024-11-12T09:52:54.708916",
          "exception": false,
          "start_time": "2024-11-12T09:52:54.647680",
          "status": "completed"
        },
        "tags": [],
        "id": "9a9a77e3",
        "outputId": "32a4103f-a991-4fda-e120-35667a462997"
      },
      "outputs": [
        {
          "name": "stdout",
          "output_type": "stream",
          "text": [
            "<class 'pandas.core.frame.DataFrame'>\n",
            "RangeIndex: 7043 entries, 0 to 7042\n",
            "Data columns (total 22 columns):\n",
            " #   Column                       Non-Null Count  Dtype \n",
            "---  ------                       --------------  ----- \n",
            " 0   gender                       7043 non-null   int64 \n",
            " 1   SeniorCitizen                7043 non-null   int64 \n",
            " 2   Partner                      7043 non-null   int64 \n",
            " 3   Dependents                   7043 non-null   int64 \n",
            " 4   tenure                       7043 non-null   int64 \n",
            " 5   PhoneService                 7043 non-null   object\n",
            " 6   MultipleLines                7043 non-null   object\n",
            " 7   OnlineSecurity               7043 non-null   object\n",
            " 8   OnlineBackup                 7043 non-null   object\n",
            " 9   DeviceProtection             7043 non-null   int64 \n",
            " 10  TechSupport                  7043 non-null   int64 \n",
            " 11  StreamingTV                  7043 non-null   int64 \n",
            " 12  StreamingMovies              7043 non-null   int64 \n",
            " 13  PaperlessBilling             7043 non-null   int64 \n",
            " 14  MonthlyCharges               7043 non-null   int64 \n",
            " 15  TotalCharges                 7043 non-null   int64 \n",
            " 16  Churn                        7043 non-null   int64 \n",
            " 17  Contract_0                   7043 non-null   bool  \n",
            " 18  PaymentMethod_0              7043 non-null   bool  \n",
            " 19  InternetService_DSL          7043 non-null   bool  \n",
            " 20  InternetService_Fiber optic  7043 non-null   bool  \n",
            " 21  InternetService_No           7043 non-null   bool  \n",
            "dtypes: bool(5), int64(13), object(4)\n",
            "memory usage: 969.9+ KB\n"
          ]
        }
      ],
      "source": [
        "df1.info()"
      ]
    },
    {
      "cell_type": "code",
      "execution_count": null,
      "id": "2764452b",
      "metadata": {
        "papermill": {
          "duration": 0.05306,
          "end_time": "2024-11-12T09:52:54.885669",
          "exception": false,
          "start_time": "2024-11-12T09:52:54.832609",
          "status": "completed"
        },
        "tags": [],
        "id": "2764452b"
      },
      "outputs": [],
      "source": [
        "X=df1.drop(\"Churn\",axis=1)"
      ]
    },
    {
      "cell_type": "code",
      "execution_count": null,
      "id": "0a12bc5d",
      "metadata": {
        "papermill": {
          "duration": 0.059167,
          "end_time": "2024-11-12T09:52:54.988097",
          "exception": false,
          "start_time": "2024-11-12T09:52:54.928930",
          "status": "completed"
        },
        "tags": [],
        "id": "0a12bc5d"
      },
      "outputs": [],
      "source": [
        "X1=df1.drop(\"Churn\",axis=1).values"
      ]
    },
    {
      "cell_type": "code",
      "execution_count": null,
      "id": "6718cd1f",
      "metadata": {
        "papermill": {
          "duration": 0.068514,
          "end_time": "2024-11-12T09:52:55.098028",
          "exception": false,
          "start_time": "2024-11-12T09:52:55.029514",
          "status": "completed"
        },
        "tags": [],
        "id": "6718cd1f",
        "outputId": "8bad6da0-42aa-4427-946d-0e27c7749b96"
      },
      "outputs": [
        {
          "data": {
            "text/html": [
              "<div>\n",
              "<style scoped>\n",
              "    .dataframe tbody tr th:only-of-type {\n",
              "        vertical-align: middle;\n",
              "    }\n",
              "\n",
              "    .dataframe tbody tr th {\n",
              "        vertical-align: top;\n",
              "    }\n",
              "\n",
              "    .dataframe thead th {\n",
              "        text-align: right;\n",
              "    }\n",
              "</style>\n",
              "<table border=\"1\" class=\"dataframe\">\n",
              "  <thead>\n",
              "    <tr style=\"text-align: right;\">\n",
              "      <th></th>\n",
              "      <th>gender</th>\n",
              "      <th>SeniorCitizen</th>\n",
              "      <th>Partner</th>\n",
              "      <th>Dependents</th>\n",
              "      <th>tenure</th>\n",
              "      <th>PhoneService</th>\n",
              "      <th>MultipleLines</th>\n",
              "      <th>OnlineSecurity</th>\n",
              "      <th>OnlineBackup</th>\n",
              "      <th>DeviceProtection</th>\n",
              "      <th>...</th>\n",
              "      <th>StreamingTV</th>\n",
              "      <th>StreamingMovies</th>\n",
              "      <th>PaperlessBilling</th>\n",
              "      <th>MonthlyCharges</th>\n",
              "      <th>TotalCharges</th>\n",
              "      <th>Contract_0</th>\n",
              "      <th>PaymentMethod_0</th>\n",
              "      <th>InternetService_DSL</th>\n",
              "      <th>InternetService_Fiber optic</th>\n",
              "      <th>InternetService_No</th>\n",
              "    </tr>\n",
              "  </thead>\n",
              "  <tbody>\n",
              "    <tr>\n",
              "      <th>0</th>\n",
              "      <td>0</td>\n",
              "      <td>0</td>\n",
              "      <td>1</td>\n",
              "      <td>0</td>\n",
              "      <td>1</td>\n",
              "      <td>No</td>\n",
              "      <td>No</td>\n",
              "      <td>No</td>\n",
              "      <td>Yes</td>\n",
              "      <td>0</td>\n",
              "      <td>...</td>\n",
              "      <td>0</td>\n",
              "      <td>0</td>\n",
              "      <td>0</td>\n",
              "      <td>0</td>\n",
              "      <td>0</td>\n",
              "      <td>True</td>\n",
              "      <td>True</td>\n",
              "      <td>True</td>\n",
              "      <td>False</td>\n",
              "      <td>False</td>\n",
              "    </tr>\n",
              "    <tr>\n",
              "      <th>1</th>\n",
              "      <td>1</td>\n",
              "      <td>0</td>\n",
              "      <td>0</td>\n",
              "      <td>0</td>\n",
              "      <td>34</td>\n",
              "      <td>Yes</td>\n",
              "      <td>No</td>\n",
              "      <td>Yes</td>\n",
              "      <td>No</td>\n",
              "      <td>1</td>\n",
              "      <td>...</td>\n",
              "      <td>0</td>\n",
              "      <td>0</td>\n",
              "      <td>0</td>\n",
              "      <td>0</td>\n",
              "      <td>0</td>\n",
              "      <td>True</td>\n",
              "      <td>True</td>\n",
              "      <td>True</td>\n",
              "      <td>False</td>\n",
              "      <td>False</td>\n",
              "    </tr>\n",
              "    <tr>\n",
              "      <th>2</th>\n",
              "      <td>1</td>\n",
              "      <td>0</td>\n",
              "      <td>0</td>\n",
              "      <td>0</td>\n",
              "      <td>2</td>\n",
              "      <td>Yes</td>\n",
              "      <td>No</td>\n",
              "      <td>Yes</td>\n",
              "      <td>Yes</td>\n",
              "      <td>0</td>\n",
              "      <td>...</td>\n",
              "      <td>0</td>\n",
              "      <td>0</td>\n",
              "      <td>0</td>\n",
              "      <td>0</td>\n",
              "      <td>0</td>\n",
              "      <td>True</td>\n",
              "      <td>True</td>\n",
              "      <td>True</td>\n",
              "      <td>False</td>\n",
              "      <td>False</td>\n",
              "    </tr>\n",
              "    <tr>\n",
              "      <th>3</th>\n",
              "      <td>1</td>\n",
              "      <td>0</td>\n",
              "      <td>0</td>\n",
              "      <td>0</td>\n",
              "      <td>45</td>\n",
              "      <td>No</td>\n",
              "      <td>No</td>\n",
              "      <td>Yes</td>\n",
              "      <td>No</td>\n",
              "      <td>1</td>\n",
              "      <td>...</td>\n",
              "      <td>0</td>\n",
              "      <td>0</td>\n",
              "      <td>0</td>\n",
              "      <td>0</td>\n",
              "      <td>0</td>\n",
              "      <td>True</td>\n",
              "      <td>True</td>\n",
              "      <td>True</td>\n",
              "      <td>False</td>\n",
              "      <td>False</td>\n",
              "    </tr>\n",
              "    <tr>\n",
              "      <th>4</th>\n",
              "      <td>0</td>\n",
              "      <td>0</td>\n",
              "      <td>0</td>\n",
              "      <td>0</td>\n",
              "      <td>2</td>\n",
              "      <td>Yes</td>\n",
              "      <td>No</td>\n",
              "      <td>No</td>\n",
              "      <td>No</td>\n",
              "      <td>0</td>\n",
              "      <td>...</td>\n",
              "      <td>0</td>\n",
              "      <td>0</td>\n",
              "      <td>0</td>\n",
              "      <td>0</td>\n",
              "      <td>0</td>\n",
              "      <td>True</td>\n",
              "      <td>True</td>\n",
              "      <td>False</td>\n",
              "      <td>True</td>\n",
              "      <td>False</td>\n",
              "    </tr>\n",
              "  </tbody>\n",
              "</table>\n",
              "<p>5 rows × 21 columns</p>\n",
              "</div>"
            ],
            "text/plain": [
              "   gender  SeniorCitizen  Partner  Dependents  tenure PhoneService  \\\n",
              "0       0              0        1           0       1           No   \n",
              "1       1              0        0           0      34          Yes   \n",
              "2       1              0        0           0       2          Yes   \n",
              "3       1              0        0           0      45           No   \n",
              "4       0              0        0           0       2          Yes   \n",
              "\n",
              "  MultipleLines OnlineSecurity OnlineBackup  DeviceProtection  ...  \\\n",
              "0            No             No          Yes                 0  ...   \n",
              "1            No            Yes           No                 1  ...   \n",
              "2            No            Yes          Yes                 0  ...   \n",
              "3            No            Yes           No                 1  ...   \n",
              "4            No             No           No                 0  ...   \n",
              "\n",
              "   StreamingTV  StreamingMovies  PaperlessBilling  MonthlyCharges  \\\n",
              "0            0                0                 0               0   \n",
              "1            0                0                 0               0   \n",
              "2            0                0                 0               0   \n",
              "3            0                0                 0               0   \n",
              "4            0                0                 0               0   \n",
              "\n",
              "   TotalCharges  Contract_0  PaymentMethod_0  InternetService_DSL  \\\n",
              "0             0        True             True                 True   \n",
              "1             0        True             True                 True   \n",
              "2             0        True             True                 True   \n",
              "3             0        True             True                 True   \n",
              "4             0        True             True                False   \n",
              "\n",
              "   InternetService_Fiber optic  InternetService_No  \n",
              "0                        False               False  \n",
              "1                        False               False  \n",
              "2                        False               False  \n",
              "3                        False               False  \n",
              "4                         True               False  \n",
              "\n",
              "[5 rows x 21 columns]"
            ]
          },
          "execution_count": 88,
          "metadata": {},
          "output_type": "execute_result"
        }
      ],
      "source": [
        "X.head()"
      ]
    },
    {
      "cell_type": "code",
      "execution_count": null,
      "id": "bc850c4b",
      "metadata": {
        "papermill": {
          "duration": 0.052483,
          "end_time": "2024-11-12T09:52:55.191989",
          "exception": false,
          "start_time": "2024-11-12T09:52:55.139506",
          "status": "completed"
        },
        "tags": [],
        "id": "bc850c4b",
        "outputId": "fd414985-4d89-444a-a356-57e124c67fc6"
      },
      "outputs": [
        {
          "data": {
            "text/plain": [
              "(7043, 21)"
            ]
          },
          "execution_count": 90,
          "metadata": {},
          "output_type": "execute_result"
        }
      ],
      "source": [
        "X.shape"
      ]
    },
    {
      "cell_type": "code",
      "execution_count": null,
      "id": "ed60eacd",
      "metadata": {
        "papermill": {
          "duration": 0.050886,
          "end_time": "2024-11-12T09:52:55.284573",
          "exception": false,
          "start_time": "2024-11-12T09:52:55.233687",
          "status": "completed"
        },
        "tags": [],
        "id": "ed60eacd"
      },
      "outputs": [],
      "source": [
        "y=df1[\"Churn\"]"
      ]
    },
    {
      "cell_type": "code",
      "execution_count": null,
      "id": "508d2e6d",
      "metadata": {
        "papermill": {
          "duration": 0.053528,
          "end_time": "2024-11-12T09:52:55.380890",
          "exception": false,
          "start_time": "2024-11-12T09:52:55.327362",
          "status": "completed"
        },
        "tags": [],
        "id": "508d2e6d",
        "outputId": "990ae6b5-08e2-4b0a-811a-3cc7369fe073"
      },
      "outputs": [
        {
          "data": {
            "text/plain": [
              "0    0\n",
              "1    0\n",
              "2    1\n",
              "3    0\n",
              "4    1\n",
              "Name: Churn, dtype: int64"
            ]
          },
          "execution_count": 94,
          "metadata": {},
          "output_type": "execute_result"
        }
      ],
      "source": [
        "y.head()"
      ]
    },
    {
      "cell_type": "code",
      "execution_count": null,
      "id": "1cfe2bce",
      "metadata": {
        "papermill": {
          "duration": 0.052658,
          "end_time": "2024-11-12T09:52:55.475727",
          "exception": false,
          "start_time": "2024-11-12T09:52:55.423069",
          "status": "completed"
        },
        "tags": [],
        "id": "1cfe2bce",
        "outputId": "59380ee6-8998-406a-d998-5304f33b72f0"
      },
      "outputs": [
        {
          "data": {
            "text/plain": [
              "(7043,)"
            ]
          },
          "execution_count": 96,
          "metadata": {},
          "output_type": "execute_result"
        }
      ],
      "source": [
        "y.shape"
      ]
    },
    {
      "cell_type": "code",
      "execution_count": null,
      "id": "9cc67517",
      "metadata": {
        "papermill": {
          "duration": 0.053937,
          "end_time": "2024-11-12T09:52:55.571506",
          "exception": false,
          "start_time": "2024-11-12T09:52:55.517569",
          "status": "completed"
        },
        "tags": [],
        "id": "9cc67517",
        "outputId": "2cd70009-5237-4761-9cfe-968fdb2eef0a"
      },
      "outputs": [
        {
          "data": {
            "text/plain": [
              "array([[0, 0, 1, ..., True, False, False],\n",
              "       [1, 0, 0, ..., True, False, False],\n",
              "       [1, 0, 0, ..., True, False, False],\n",
              "       ...,\n",
              "       [0, 0, 1, ..., True, False, False],\n",
              "       [1, 1, 1, ..., False, True, False],\n",
              "       [1, 0, 0, ..., False, True, False]], dtype=object)"
            ]
          },
          "execution_count": 98,
          "metadata": {},
          "output_type": "execute_result"
        }
      ],
      "source": [
        "X1"
      ]
    },
    {
      "cell_type": "code",
      "execution_count": null,
      "id": "f259e05d",
      "metadata": {
        "papermill": {
          "duration": 0.291599,
          "end_time": "2024-11-12T09:52:55.905292",
          "exception": false,
          "start_time": "2024-11-12T09:52:55.613693",
          "status": "completed"
        },
        "tags": [],
        "id": "f259e05d"
      },
      "outputs": [],
      "source": [
        "from sklearn.preprocessing import StandardScaler\n",
        "from sklearn.model_selection import train_test_split\n",
        "from sklearn.metrics import confusion_matrix, classification_report, accuracy_score\n"
      ]
    },
    {
      "cell_type": "code",
      "execution_count": null,
      "id": "8129f0e8",
      "metadata": {
        "papermill": {
          "duration": 0.058462,
          "end_time": "2024-11-12T09:52:56.006204",
          "exception": false,
          "start_time": "2024-11-12T09:52:55.947742",
          "status": "completed"
        },
        "tags": [],
        "id": "8129f0e8"
      },
      "outputs": [],
      "source": [
        "if isinstance(X, pd.DataFrame):\n",
        "    X = X.select_dtypes(include=[np.number])  # Select only numeric columns\n",
        "\n",
        "sc = StandardScaler()\n",
        "X_ = sc.fit_transform(X)"
      ]
    },
    {
      "cell_type": "code",
      "execution_count": null,
      "id": "66e5696f",
      "metadata": {
        "papermill": {
          "duration": 0.054264,
          "end_time": "2024-11-12T09:52:56.102584",
          "exception": false,
          "start_time": "2024-11-12T09:52:56.048320",
          "status": "completed"
        },
        "tags": [],
        "id": "66e5696f",
        "outputId": "9de22b4e-8498-43be-e807-44299d580b6f"
      },
      "outputs": [
        {
          "data": {
            "text/plain": [
              "array([[-1.00955867, -0.43991649,  1.03453023, ...,  0.        ,\n",
              "         0.        ,  0.        ],\n",
              "       [ 0.99053183, -0.43991649, -0.96662231, ...,  0.        ,\n",
              "         0.        ,  0.        ],\n",
              "       [ 0.99053183, -0.43991649, -0.96662231, ...,  0.        ,\n",
              "         0.        ,  0.        ],\n",
              "       ...,\n",
              "       [-1.00955867, -0.43991649,  1.03453023, ...,  0.        ,\n",
              "         0.        ,  0.        ],\n",
              "       [ 0.99053183,  2.27315869,  1.03453023, ...,  0.        ,\n",
              "         0.        ,  0.        ],\n",
              "       [ 0.99053183, -0.43991649, -0.96662231, ...,  0.        ,\n",
              "         0.        ,  0.        ]])"
            ]
          },
          "execution_count": 104,
          "metadata": {},
          "output_type": "execute_result"
        }
      ],
      "source": [
        "X_"
      ]
    },
    {
      "cell_type": "code",
      "execution_count": null,
      "id": "a1ced968",
      "metadata": {
        "papermill": {
          "duration": 0.055009,
          "end_time": "2024-11-12T09:52:56.200152",
          "exception": false,
          "start_time": "2024-11-12T09:52:56.145143",
          "status": "completed"
        },
        "tags": [],
        "id": "a1ced968"
      },
      "outputs": [],
      "source": [
        "X_train,X_test,y_train,y_test=train_test_split(X_,y,test_size=0.2,random_state=0)"
      ]
    },
    {
      "cell_type": "code",
      "execution_count": null,
      "id": "46c430db",
      "metadata": {
        "papermill": {
          "duration": 0.170357,
          "end_time": "2024-11-12T09:52:56.412980",
          "exception": false,
          "start_time": "2024-11-12T09:52:56.242623",
          "status": "completed"
        },
        "tags": [],
        "id": "46c430db",
        "outputId": "51a89ed6-c65c-4164-f638-79e2e6fb24f9"
      },
      "outputs": [
        {
          "name": "stdout",
          "output_type": "stream",
          "text": [
            "Training Score: 0.7566560170394037\n"
          ]
        }
      ],
      "source": [
        "from sklearn.linear_model import LogisticRegression\n",
        "\n",
        "# Initialize the Logistic Regression model\n",
        "lg = LogisticRegression()\n",
        "\n",
        "# Fit the model to your training data\n",
        "lg.fit(X_train, y_train)\n",
        "\n",
        "# Now you can get the score\n",
        "train_score = lg.score(X_train, y_train)\n",
        "print(\"Training Score:\", train_score)\n"
      ]
    },
    {
      "cell_type": "code",
      "execution_count": null,
      "id": "6bf349e6",
      "metadata": {
        "papermill": {
          "duration": 0.069061,
          "end_time": "2024-11-12T09:52:56.572906",
          "exception": false,
          "start_time": "2024-11-12T09:52:56.503845",
          "status": "completed"
        },
        "tags": [],
        "id": "6bf349e6",
        "outputId": "ca625f13-6651-4a90-c701-8682547b5485"
      },
      "outputs": [
        {
          "data": {
            "text/plain": [
              "0.7508871540099361"
            ]
          },
          "execution_count": 147,
          "metadata": {},
          "output_type": "execute_result"
        }
      ],
      "source": [
        "test_score=lg.score(X_test,y_test)\n",
        "test_score"
      ]
    },
    {
      "cell_type": "code",
      "execution_count": null,
      "id": "adbaa963",
      "metadata": {
        "papermill": {
          "duration": 0.188913,
          "end_time": "2024-11-12T09:52:56.946108",
          "exception": false,
          "start_time": "2024-11-12T09:52:56.757195",
          "status": "completed"
        },
        "tags": [],
        "id": "adbaa963"
      },
      "outputs": [],
      "source": [
        "from sklearn.linear_model import LogisticRegression\n",
        "from sklearn.ensemble import RandomForestClassifier\n",
        "from sklearn.tree import DecisionTreeClassifier\n",
        "from sklearn.svm import SVC"
      ]
    },
    {
      "cell_type": "code",
      "execution_count": null,
      "id": "d57344f4",
      "metadata": {
        "papermill": {
          "duration": 0.072295,
          "end_time": "2024-11-12T09:52:57.061544",
          "exception": false,
          "start_time": "2024-11-12T09:52:56.989249",
          "status": "completed"
        },
        "tags": [],
        "id": "d57344f4"
      },
      "outputs": [],
      "source": [
        "lg=LogisticRegression(penalty=\"l2\",solver='lbfgs')\n",
        "lg.fit(X_train,y_train)\n",
        "y_pred_lg=lg.predict(X_test)\n",
        "accuracy=accuracy_score(y_test,y_pred_lg)"
      ]
    },
    {
      "cell_type": "code",
      "execution_count": null,
      "id": "6352906d-d24d-41cf-ac4e-9b4e81b8c77f",
      "metadata": {
        "id": "6352906d-d24d-41cf-ac4e-9b4e81b8c77f",
        "outputId": "5b592c50-aa1a-40ab-a63a-376c9b57f3c9"
      },
      "outputs": [
        {
          "name": "stdout",
          "output_type": "stream",
          "text": [
            "              precision    recall  f1-score   support\n",
            "\n",
            "           0       0.77      0.94      0.85      1041\n",
            "           1       0.56      0.21      0.31       368\n",
            "\n",
            "    accuracy                           0.75      1409\n",
            "   macro avg       0.67      0.58      0.58      1409\n",
            "weighted avg       0.72      0.75      0.71      1409\n",
            "\n"
          ]
        }
      ],
      "source": [
        "print(classification_report(y_test,y_pred_lg))"
      ]
    },
    {
      "cell_type": "code",
      "execution_count": null,
      "id": "8c822ea2",
      "metadata": {
        "papermill": {
          "duration": 0.064064,
          "end_time": "2024-11-12T09:52:57.215637",
          "exception": false,
          "start_time": "2024-11-12T09:52:57.151573",
          "status": "completed"
        },
        "tags": [],
        "id": "8c822ea2",
        "outputId": "0325ed93-ec46-443f-dee2-69d0d0503832"
      },
      "outputs": [
        {
          "data": {
            "text/plain": [
              "0.7508871540099361"
            ]
          },
          "execution_count": 158,
          "metadata": {},
          "output_type": "execute_result"
        }
      ],
      "source": [
        "accuracy_score(y_test,y_pred_lg)"
      ]
    },
    {
      "cell_type": "code",
      "execution_count": null,
      "id": "fb041ffe",
      "metadata": {
        "papermill": {
          "duration": 0.576883,
          "end_time": "2024-11-12T09:52:57.923593",
          "exception": false,
          "start_time": "2024-11-12T09:52:57.346710",
          "status": "completed"
        },
        "tags": [],
        "id": "fb041ffe"
      },
      "outputs": [],
      "source": [
        "rf=RandomForestClassifier(max_depth= 10, min_samples_leaf= 4, min_samples_split= 5, n_estimators= 100)\n",
        "rf.fit(X_train,y_train)\n",
        "y_pred_rf=rf.predict(X_test)\n",
        "accuracy_rf=accuracy_score(y_test,y_pred_rf)\n"
      ]
    },
    {
      "cell_type": "code",
      "execution_count": null,
      "id": "f09d8c14",
      "metadata": {
        "papermill": {
          "duration": 0.054369,
          "end_time": "2024-11-12T09:52:58.020745",
          "exception": false,
          "start_time": "2024-11-12T09:52:57.966376",
          "status": "completed"
        },
        "tags": [],
        "id": "f09d8c14",
        "outputId": "db6911ea-d76a-4f4b-b965-a950c4f879e3"
      },
      "outputs": [
        {
          "data": {
            "text/plain": [
              "0.7487579843860894"
            ]
          },
          "execution_count": 164,
          "metadata": {},
          "output_type": "execute_result"
        }
      ],
      "source": [
        "accuracy_rf"
      ]
    },
    {
      "cell_type": "code",
      "execution_count": null,
      "id": "2073d5b3-ca4e-4c2d-be6c-33d348c4e0c2",
      "metadata": {
        "id": "2073d5b3-ca4e-4c2d-be6c-33d348c4e0c2",
        "outputId": "db9b5161-7d5a-4d0d-a8d3-23fe54164799"
      },
      "outputs": [
        {
          "name": "stdout",
          "output_type": "stream",
          "text": [
            "              precision    recall  f1-score   support\n",
            "\n",
            "           0       0.79      0.89      0.84      1041\n",
            "           1       0.53      0.34      0.42       368\n",
            "\n",
            "    accuracy                           0.75      1409\n",
            "   macro avg       0.66      0.62      0.63      1409\n",
            "weighted avg       0.72      0.75      0.73      1409\n",
            "\n"
          ]
        }
      ],
      "source": [
        "print(classification_report(y_test,y_pred_rf))"
      ]
    },
    {
      "cell_type": "code",
      "execution_count": null,
      "id": "d3826562",
      "metadata": {
        "papermill": {
          "duration": 0.06402,
          "end_time": "2024-11-12T09:52:58.213005",
          "exception": false,
          "start_time": "2024-11-12T09:52:58.148985",
          "status": "completed"
        },
        "tags": [],
        "id": "d3826562"
      },
      "outputs": [],
      "source": [
        "dt=DecisionTreeClassifier(criterion=\"entropy\",splitter=\"best\",min_samples_split=5)\n",
        "dt.fit(X_train,y_train)\n",
        "y_pred_dt=dt.predict(X_test)\n",
        "accuracy_dt=accuracy_score(y_pred_dt,y_test)"
      ]
    },
    {
      "cell_type": "code",
      "execution_count": null,
      "id": "4622070a",
      "metadata": {
        "papermill": {
          "duration": 0.05376,
          "end_time": "2024-11-12T09:52:58.309797",
          "exception": false,
          "start_time": "2024-11-12T09:52:58.256037",
          "status": "completed"
        },
        "tags": [],
        "id": "4622070a",
        "outputId": "84e45795-5b77-43ec-bd16-8a79c92c6ca5"
      },
      "outputs": [
        {
          "data": {
            "text/plain": [
              "0.7423704755145494"
            ]
          },
          "execution_count": 172,
          "metadata": {},
          "output_type": "execute_result"
        }
      ],
      "source": [
        "accuracy_dt"
      ]
    },
    {
      "cell_type": "code",
      "execution_count": null,
      "id": "46cc1d64-3173-406f-b288-1a5df038b8c0",
      "metadata": {
        "id": "46cc1d64-3173-406f-b288-1a5df038b8c0",
        "outputId": "1947eeef-b2b0-409f-951a-2890bd63a051"
      },
      "outputs": [
        {
          "name": "stdout",
          "output_type": "stream",
          "text": [
            "              precision    recall  f1-score   support\n",
            "\n",
            "           0       0.79      0.88      0.83      1041\n",
            "           1       0.51      0.35      0.41       368\n",
            "\n",
            "    accuracy                           0.74      1409\n",
            "   macro avg       0.65      0.61      0.62      1409\n",
            "weighted avg       0.72      0.74      0.72      1409\n",
            "\n"
          ]
        }
      ],
      "source": [
        "print(classification_report(y_test,y_pred_dt))"
      ]
    },
    {
      "cell_type": "code",
      "execution_count": null,
      "id": "86844d39",
      "metadata": {
        "papermill": {
          "duration": 0.204404,
          "end_time": "2024-11-12T09:52:59.329761",
          "exception": false,
          "start_time": "2024-11-12T09:52:59.125357",
          "status": "completed"
        },
        "tags": [],
        "id": "86844d39"
      },
      "outputs": [],
      "source": [
        "import xgboost\n",
        "from xgboost import XGBClassifier\n",
        "xg=XGBClassifier()\n",
        "xg.fit(X_train,y_train)\n",
        "y_pred_xg=xg.predict(X_test)\n",
        "Accuracy_xg=accuracy_score(y_test,y_pred_xg)"
      ]
    },
    {
      "cell_type": "code",
      "execution_count": null,
      "id": "cf0f3ac6",
      "metadata": {
        "papermill": {
          "duration": 0.053358,
          "end_time": "2024-11-12T09:52:59.426916",
          "exception": false,
          "start_time": "2024-11-12T09:52:59.373558",
          "status": "completed"
        },
        "tags": [],
        "id": "cf0f3ac6",
        "outputId": "0437be24-bd54-477e-9007-3f6fddf0c9f8"
      },
      "outputs": [
        {
          "data": {
            "text/plain": [
              "0.7452093683463449"
            ]
          },
          "execution_count": 178,
          "metadata": {},
          "output_type": "execute_result"
        }
      ],
      "source": [
        "Accuracy_xg"
      ]
    },
    {
      "cell_type": "code",
      "execution_count": null,
      "id": "957cc8b3-a91d-483b-b9a1-2f8bd08e8c19",
      "metadata": {
        "id": "957cc8b3-a91d-483b-b9a1-2f8bd08e8c19",
        "outputId": "74a202de-c4c2-4b2b-82a7-bc2d3bcc433f"
      },
      "outputs": [
        {
          "name": "stdout",
          "output_type": "stream",
          "text": [
            "              precision    recall  f1-score   support\n",
            "\n",
            "           0       0.79      0.88      0.84      1041\n",
            "           1       0.52      0.35      0.42       368\n",
            "\n",
            "    accuracy                           0.75      1409\n",
            "   macro avg       0.66      0.62      0.63      1409\n",
            "weighted avg       0.72      0.75      0.73      1409\n",
            "\n"
          ]
        }
      ],
      "source": [
        "print(classification_report(y_test,y_pred_xg))"
      ]
    },
    {
      "cell_type": "code",
      "execution_count": null,
      "id": "b7efc7bf",
      "metadata": {
        "papermill": {
          "duration": 0.252381,
          "end_time": "2024-11-12T09:52:59.906214",
          "exception": false,
          "start_time": "2024-11-12T09:52:59.653833",
          "status": "completed"
        },
        "tags": [],
        "id": "b7efc7bf"
      },
      "outputs": [],
      "source": [
        "from sklearn.ensemble import AdaBoostClassifier\n",
        "ad=AdaBoostClassifier(algorithm='SAMME')\n",
        "ad.fit(X_train,y_train)\n",
        "y_pred_ad=ad.predict(X_test)\n",
        "Accuracy_ad=accuracy_score(y_test,y_pred_ad)"
      ]
    },
    {
      "cell_type": "code",
      "execution_count": null,
      "id": "b9700864",
      "metadata": {
        "papermill": {
          "duration": 0.061275,
          "end_time": "2024-11-12T09:53:00.012067",
          "exception": false,
          "start_time": "2024-11-12T09:52:59.950792",
          "status": "completed"
        },
        "tags": [],
        "id": "b9700864",
        "outputId": "767dbbd0-82fb-4da9-a84c-605f74d00991"
      },
      "outputs": [
        {
          "data": {
            "text/plain": [
              "0.751596877217885"
            ]
          },
          "execution_count": 190,
          "metadata": {},
          "output_type": "execute_result"
        }
      ],
      "source": [
        "Accuracy_ad"
      ]
    },
    {
      "cell_type": "code",
      "execution_count": null,
      "id": "d0e601c7-968b-4030-ace9-2472079e1d76",
      "metadata": {
        "id": "d0e601c7-968b-4030-ace9-2472079e1d76",
        "outputId": "8540309f-857a-4210-af3f-5007738fd45c"
      },
      "outputs": [
        {
          "name": "stdout",
          "output_type": "stream",
          "text": [
            "              precision    recall  f1-score   support\n",
            "\n",
            "           0       0.78      0.92      0.85      1041\n",
            "           1       0.55      0.28      0.37       368\n",
            "\n",
            "    accuracy                           0.75      1409\n",
            "   macro avg       0.67      0.60      0.61      1409\n",
            "weighted avg       0.72      0.75      0.72      1409\n",
            "\n"
          ]
        }
      ],
      "source": [
        "cls=classification_report(y_test,y_pred_ad)\n",
        "print(cls)"
      ]
    },
    {
      "cell_type": "code",
      "execution_count": null,
      "id": "830143cc-d37d-4911-a391-59942912de40",
      "metadata": {
        "id": "830143cc-d37d-4911-a391-59942912de40",
        "outputId": "cdf18548-45b9-4bad-b1fd-2da46f049cd9"
      },
      "outputs": [
        {
          "data": {
            "text/plain": [
              "array([[955,  86],\n",
              "       [264, 104]], dtype=int64)"
            ]
          },
          "execution_count": 194,
          "metadata": {},
          "output_type": "execute_result"
        }
      ],
      "source": [
        "from sklearn.metrics import confusion_matrix\n",
        "confusion_matrix(y_test,y_pred_ad)\n"
      ]
    },
    {
      "cell_type": "code",
      "execution_count": null,
      "id": "73d27fdd",
      "metadata": {
        "papermill": {
          "duration": 0.052131,
          "end_time": "2024-11-12T09:53:00.111893",
          "exception": false,
          "start_time": "2024-11-12T09:53:00.059762",
          "status": "completed"
        },
        "tags": [],
        "id": "73d27fdd"
      },
      "outputs": [],
      "source": [
        "from sklearn.model_selection import GridSearchCV"
      ]
    },
    {
      "cell_type": "code",
      "execution_count": null,
      "id": "b01e7c8f",
      "metadata": {
        "papermill": {
          "duration": 0.053013,
          "end_time": "2024-11-12T09:53:00.208577",
          "exception": false,
          "start_time": "2024-11-12T09:53:00.155564",
          "status": "completed"
        },
        "tags": [],
        "id": "b01e7c8f"
      },
      "outputs": [],
      "source": [
        "param_grid={\n",
        " \"penalty\":[\"l1\",\"l2\"],\n",
        " \"solver\":[\"lbfgs\",\"liblinear\",\"newton_cg\",\"newton_cholesky\",\"sag\",\"saga\"]\n",
        "}\n",
        "model=LogisticRegression()\n"
      ]
    },
    {
      "cell_type": "code",
      "execution_count": null,
      "id": "2d5769a2",
      "metadata": {
        "papermill": {
          "duration": 0.053393,
          "end_time": "2024-11-12T09:53:00.308341",
          "exception": false,
          "start_time": "2024-11-12T09:53:00.254948",
          "status": "completed"
        },
        "tags": [],
        "id": "2d5769a2"
      },
      "outputs": [],
      "source": [
        "grid_search_lg=GridSearchCV(estimator=model,param_grid=param_grid,cv=5,scoring=\"accuracy\")"
      ]
    },
    {
      "cell_type": "code",
      "execution_count": null,
      "id": "cae04c54",
      "metadata": {
        "papermill": {
          "duration": 4.070084,
          "end_time": "2024-11-12T09:53:04.424705",
          "exception": false,
          "start_time": "2024-11-12T09:53:00.354621",
          "status": "completed"
        },
        "tags": [],
        "id": "cae04c54",
        "outputId": "d218f457-1ba5-41c0-b670-648bd7485fcf"
      },
      "outputs": [
        {
          "data": {
            "text/html": [
              "<style>#sk-container-id-1 {color: black;background-color: white;}#sk-container-id-1 pre{padding: 0;}#sk-container-id-1 div.sk-toggleable {background-color: white;}#sk-container-id-1 label.sk-toggleable__label {cursor: pointer;display: block;width: 100%;margin-bottom: 0;padding: 0.3em;box-sizing: border-box;text-align: center;}#sk-container-id-1 label.sk-toggleable__label-arrow:before {content: \"▸\";float: left;margin-right: 0.25em;color: #696969;}#sk-container-id-1 label.sk-toggleable__label-arrow:hover:before {color: black;}#sk-container-id-1 div.sk-estimator:hover label.sk-toggleable__label-arrow:before {color: black;}#sk-container-id-1 div.sk-toggleable__content {max-height: 0;max-width: 0;overflow: hidden;text-align: left;background-color: #f0f8ff;}#sk-container-id-1 div.sk-toggleable__content pre {margin: 0.2em;color: black;border-radius: 0.25em;background-color: #f0f8ff;}#sk-container-id-1 input.sk-toggleable__control:checked~div.sk-toggleable__content {max-height: 200px;max-width: 100%;overflow: auto;}#sk-container-id-1 input.sk-toggleable__control:checked~label.sk-toggleable__label-arrow:before {content: \"▾\";}#sk-container-id-1 div.sk-estimator input.sk-toggleable__control:checked~label.sk-toggleable__label {background-color: #d4ebff;}#sk-container-id-1 div.sk-label input.sk-toggleable__control:checked~label.sk-toggleable__label {background-color: #d4ebff;}#sk-container-id-1 input.sk-hidden--visually {border: 0;clip: rect(1px 1px 1px 1px);clip: rect(1px, 1px, 1px, 1px);height: 1px;margin: -1px;overflow: hidden;padding: 0;position: absolute;width: 1px;}#sk-container-id-1 div.sk-estimator {font-family: monospace;background-color: #f0f8ff;border: 1px dotted black;border-radius: 0.25em;box-sizing: border-box;margin-bottom: 0.5em;}#sk-container-id-1 div.sk-estimator:hover {background-color: #d4ebff;}#sk-container-id-1 div.sk-parallel-item::after {content: \"\";width: 100%;border-bottom: 1px solid gray;flex-grow: 1;}#sk-container-id-1 div.sk-label:hover label.sk-toggleable__label {background-color: #d4ebff;}#sk-container-id-1 div.sk-serial::before {content: \"\";position: absolute;border-left: 1px solid gray;box-sizing: border-box;top: 0;bottom: 0;left: 50%;z-index: 0;}#sk-container-id-1 div.sk-serial {display: flex;flex-direction: column;align-items: center;background-color: white;padding-right: 0.2em;padding-left: 0.2em;position: relative;}#sk-container-id-1 div.sk-item {position: relative;z-index: 1;}#sk-container-id-1 div.sk-parallel {display: flex;align-items: stretch;justify-content: center;background-color: white;position: relative;}#sk-container-id-1 div.sk-item::before, #sk-container-id-1 div.sk-parallel-item::before {content: \"\";position: absolute;border-left: 1px solid gray;box-sizing: border-box;top: 0;bottom: 0;left: 50%;z-index: -1;}#sk-container-id-1 div.sk-parallel-item {display: flex;flex-direction: column;z-index: 1;position: relative;background-color: white;}#sk-container-id-1 div.sk-parallel-item:first-child::after {align-self: flex-end;width: 50%;}#sk-container-id-1 div.sk-parallel-item:last-child::after {align-self: flex-start;width: 50%;}#sk-container-id-1 div.sk-parallel-item:only-child::after {width: 0;}#sk-container-id-1 div.sk-dashed-wrapped {border: 1px dashed gray;margin: 0 0.4em 0.5em 0.4em;box-sizing: border-box;padding-bottom: 0.4em;background-color: white;}#sk-container-id-1 div.sk-label label {font-family: monospace;font-weight: bold;display: inline-block;line-height: 1.2em;}#sk-container-id-1 div.sk-label-container {text-align: center;}#sk-container-id-1 div.sk-container {/* jupyter's `normalize.less` sets `[hidden] { display: none; }` but bootstrap.min.css set `[hidden] { display: none !important; }` so we also need the `!important` here to be able to override the default hidden behavior on the sphinx rendered scikit-learn.org. See: https://github.com/scikit-learn/scikit-learn/issues/21755 */display: inline-block !important;position: relative;}#sk-container-id-1 div.sk-text-repr-fallback {display: none;}</style><div id=\"sk-container-id-1\" class=\"sk-top-container\"><div class=\"sk-text-repr-fallback\"><pre>GridSearchCV(cv=5, estimator=LogisticRegression(),\n",
              "             param_grid={&#x27;penalty&#x27;: [&#x27;l1&#x27;, &#x27;l2&#x27;],\n",
              "                         &#x27;solver&#x27;: [&#x27;lbfgs&#x27;, &#x27;liblinear&#x27;, &#x27;newton_cg&#x27;,\n",
              "                                    &#x27;newton_cholesky&#x27;, &#x27;sag&#x27;, &#x27;saga&#x27;]},\n",
              "             scoring=&#x27;accuracy&#x27;)</pre><b>In a Jupyter environment, please rerun this cell to show the HTML representation or trust the notebook. <br />On GitHub, the HTML representation is unable to render, please try loading this page with nbviewer.org.</b></div><div class=\"sk-container\" hidden><div class=\"sk-item sk-dashed-wrapped\"><div class=\"sk-label-container\"><div class=\"sk-label sk-toggleable\"><input class=\"sk-toggleable__control sk-hidden--visually\" id=\"sk-estimator-id-1\" type=\"checkbox\" ><label for=\"sk-estimator-id-1\" class=\"sk-toggleable__label sk-toggleable__label-arrow\">GridSearchCV</label><div class=\"sk-toggleable__content\"><pre>GridSearchCV(cv=5, estimator=LogisticRegression(),\n",
              "             param_grid={&#x27;penalty&#x27;: [&#x27;l1&#x27;, &#x27;l2&#x27;],\n",
              "                         &#x27;solver&#x27;: [&#x27;lbfgs&#x27;, &#x27;liblinear&#x27;, &#x27;newton_cg&#x27;,\n",
              "                                    &#x27;newton_cholesky&#x27;, &#x27;sag&#x27;, &#x27;saga&#x27;]},\n",
              "             scoring=&#x27;accuracy&#x27;)</pre></div></div></div><div class=\"sk-parallel\"><div class=\"sk-parallel-item\"><div class=\"sk-item\"><div class=\"sk-label-container\"><div class=\"sk-label sk-toggleable\"><input class=\"sk-toggleable__control sk-hidden--visually\" id=\"sk-estimator-id-2\" type=\"checkbox\" ><label for=\"sk-estimator-id-2\" class=\"sk-toggleable__label sk-toggleable__label-arrow\">estimator: LogisticRegression</label><div class=\"sk-toggleable__content\"><pre>LogisticRegression()</pre></div></div></div><div class=\"sk-serial\"><div class=\"sk-item\"><div class=\"sk-estimator sk-toggleable\"><input class=\"sk-toggleable__control sk-hidden--visually\" id=\"sk-estimator-id-3\" type=\"checkbox\" ><label for=\"sk-estimator-id-3\" class=\"sk-toggleable__label sk-toggleable__label-arrow\">LogisticRegression</label><div class=\"sk-toggleable__content\"><pre>LogisticRegression()</pre></div></div></div></div></div></div></div></div></div></div>"
            ],
            "text/plain": [
              "GridSearchCV(cv=5, estimator=LogisticRegression(),\n",
              "             param_grid={'penalty': ['l1', 'l2'],\n",
              "                         'solver': ['lbfgs', 'liblinear', 'newton_cg',\n",
              "                                    'newton_cholesky', 'sag', 'saga']},\n",
              "             scoring='accuracy')"
            ]
          },
          "execution_count": 190,
          "metadata": {},
          "output_type": "execute_result"
        }
      ],
      "source": [
        "grid_search_lg.fit(X,y)"
      ]
    },
    {
      "cell_type": "code",
      "execution_count": null,
      "id": "16a180ec",
      "metadata": {
        "papermill": {
          "duration": 0.052783,
          "end_time": "2024-11-12T09:53:04.522183",
          "exception": false,
          "start_time": "2024-11-12T09:53:04.469400",
          "status": "completed"
        },
        "tags": [],
        "id": "16a180ec"
      },
      "outputs": [],
      "source": [
        "best=grid_search_lg.best_params_"
      ]
    },
    {
      "cell_type": "code",
      "execution_count": null,
      "id": "c6b9e951",
      "metadata": {
        "papermill": {
          "duration": 0.062453,
          "end_time": "2024-11-12T09:53:04.628209",
          "exception": false,
          "start_time": "2024-11-12T09:53:04.565756",
          "status": "completed"
        },
        "tags": [],
        "id": "c6b9e951",
        "outputId": "e216b1a5-e21f-491c-ab1c-5df2caf1752d"
      },
      "outputs": [
        {
          "data": {
            "text/plain": [
              "{'penalty': 'l1', 'solver': 'saga'}"
            ]
          },
          "execution_count": 194,
          "metadata": {},
          "output_type": "execute_result"
        }
      ],
      "source": [
        "best"
      ]
    },
    {
      "cell_type": "code",
      "execution_count": null,
      "id": "b174d18a",
      "metadata": {
        "papermill": {
          "duration": 0.058243,
          "end_time": "2024-11-12T09:53:04.734013",
          "exception": false,
          "start_time": "2024-11-12T09:53:04.675770",
          "status": "completed"
        },
        "tags": [],
        "id": "b174d18a"
      },
      "outputs": [],
      "source": [
        "param_grid = {\n",
        " 'n_estimators': [50, 100, 200],\n",
        " 'max_depth': [None, 10, 20, 30],\n",
        " 'min_samples_split': [2, 5, 10],\n",
        " 'min_samples_leaf': [1, 2, 4]\n",
        "}"
      ]
    },
    {
      "cell_type": "code",
      "execution_count": null,
      "id": "5bf1472f",
      "metadata": {
        "papermill": {
          "duration": 0.05841,
          "end_time": "2024-11-12T09:53:04.836815",
          "exception": false,
          "start_time": "2024-11-12T09:53:04.778405",
          "status": "completed"
        },
        "tags": [],
        "id": "5bf1472f"
      },
      "outputs": [],
      "source": [
        "grid_search_rf=GridSearchCV(param_grid=param_grid,scoring=\"accuracy\",estimator=rf,cv=5)"
      ]
    },
    {
      "cell_type": "code",
      "execution_count": null,
      "id": "2b0d19c7",
      "metadata": {
        "papermill": {
          "duration": 352.914536,
          "end_time": "2024-11-12T09:58:57.804040",
          "exception": false,
          "start_time": "2024-11-12T09:53:04.889504",
          "status": "completed"
        },
        "tags": [],
        "id": "2b0d19c7",
        "outputId": "7947596f-b500-4693-d871-c7a6cac4f888"
      },
      "outputs": [
        {
          "data": {
            "text/html": [
              "<style>#sk-container-id-2 {color: black;background-color: white;}#sk-container-id-2 pre{padding: 0;}#sk-container-id-2 div.sk-toggleable {background-color: white;}#sk-container-id-2 label.sk-toggleable__label {cursor: pointer;display: block;width: 100%;margin-bottom: 0;padding: 0.3em;box-sizing: border-box;text-align: center;}#sk-container-id-2 label.sk-toggleable__label-arrow:before {content: \"▸\";float: left;margin-right: 0.25em;color: #696969;}#sk-container-id-2 label.sk-toggleable__label-arrow:hover:before {color: black;}#sk-container-id-2 div.sk-estimator:hover label.sk-toggleable__label-arrow:before {color: black;}#sk-container-id-2 div.sk-toggleable__content {max-height: 0;max-width: 0;overflow: hidden;text-align: left;background-color: #f0f8ff;}#sk-container-id-2 div.sk-toggleable__content pre {margin: 0.2em;color: black;border-radius: 0.25em;background-color: #f0f8ff;}#sk-container-id-2 input.sk-toggleable__control:checked~div.sk-toggleable__content {max-height: 200px;max-width: 100%;overflow: auto;}#sk-container-id-2 input.sk-toggleable__control:checked~label.sk-toggleable__label-arrow:before {content: \"▾\";}#sk-container-id-2 div.sk-estimator input.sk-toggleable__control:checked~label.sk-toggleable__label {background-color: #d4ebff;}#sk-container-id-2 div.sk-label input.sk-toggleable__control:checked~label.sk-toggleable__label {background-color: #d4ebff;}#sk-container-id-2 input.sk-hidden--visually {border: 0;clip: rect(1px 1px 1px 1px);clip: rect(1px, 1px, 1px, 1px);height: 1px;margin: -1px;overflow: hidden;padding: 0;position: absolute;width: 1px;}#sk-container-id-2 div.sk-estimator {font-family: monospace;background-color: #f0f8ff;border: 1px dotted black;border-radius: 0.25em;box-sizing: border-box;margin-bottom: 0.5em;}#sk-container-id-2 div.sk-estimator:hover {background-color: #d4ebff;}#sk-container-id-2 div.sk-parallel-item::after {content: \"\";width: 100%;border-bottom: 1px solid gray;flex-grow: 1;}#sk-container-id-2 div.sk-label:hover label.sk-toggleable__label {background-color: #d4ebff;}#sk-container-id-2 div.sk-serial::before {content: \"\";position: absolute;border-left: 1px solid gray;box-sizing: border-box;top: 0;bottom: 0;left: 50%;z-index: 0;}#sk-container-id-2 div.sk-serial {display: flex;flex-direction: column;align-items: center;background-color: white;padding-right: 0.2em;padding-left: 0.2em;position: relative;}#sk-container-id-2 div.sk-item {position: relative;z-index: 1;}#sk-container-id-2 div.sk-parallel {display: flex;align-items: stretch;justify-content: center;background-color: white;position: relative;}#sk-container-id-2 div.sk-item::before, #sk-container-id-2 div.sk-parallel-item::before {content: \"\";position: absolute;border-left: 1px solid gray;box-sizing: border-box;top: 0;bottom: 0;left: 50%;z-index: -1;}#sk-container-id-2 div.sk-parallel-item {display: flex;flex-direction: column;z-index: 1;position: relative;background-color: white;}#sk-container-id-2 div.sk-parallel-item:first-child::after {align-self: flex-end;width: 50%;}#sk-container-id-2 div.sk-parallel-item:last-child::after {align-self: flex-start;width: 50%;}#sk-container-id-2 div.sk-parallel-item:only-child::after {width: 0;}#sk-container-id-2 div.sk-dashed-wrapped {border: 1px dashed gray;margin: 0 0.4em 0.5em 0.4em;box-sizing: border-box;padding-bottom: 0.4em;background-color: white;}#sk-container-id-2 div.sk-label label {font-family: monospace;font-weight: bold;display: inline-block;line-height: 1.2em;}#sk-container-id-2 div.sk-label-container {text-align: center;}#sk-container-id-2 div.sk-container {/* jupyter's `normalize.less` sets `[hidden] { display: none; }` but bootstrap.min.css set `[hidden] { display: none !important; }` so we also need the `!important` here to be able to override the default hidden behavior on the sphinx rendered scikit-learn.org. See: https://github.com/scikit-learn/scikit-learn/issues/21755 */display: inline-block !important;position: relative;}#sk-container-id-2 div.sk-text-repr-fallback {display: none;}</style><div id=\"sk-container-id-2\" class=\"sk-top-container\"><div class=\"sk-text-repr-fallback\"><pre>GridSearchCV(cv=5,\n",
              "             estimator=RandomForestClassifier(max_depth=10, min_samples_leaf=4,\n",
              "                                              min_samples_split=5),\n",
              "             param_grid={&#x27;max_depth&#x27;: [None, 10, 20, 30],\n",
              "                         &#x27;min_samples_leaf&#x27;: [1, 2, 4],\n",
              "                         &#x27;min_samples_split&#x27;: [2, 5, 10],\n",
              "                         &#x27;n_estimators&#x27;: [50, 100, 200]},\n",
              "             scoring=&#x27;accuracy&#x27;)</pre><b>In a Jupyter environment, please rerun this cell to show the HTML representation or trust the notebook. <br />On GitHub, the HTML representation is unable to render, please try loading this page with nbviewer.org.</b></div><div class=\"sk-container\" hidden><div class=\"sk-item sk-dashed-wrapped\"><div class=\"sk-label-container\"><div class=\"sk-label sk-toggleable\"><input class=\"sk-toggleable__control sk-hidden--visually\" id=\"sk-estimator-id-4\" type=\"checkbox\" ><label for=\"sk-estimator-id-4\" class=\"sk-toggleable__label sk-toggleable__label-arrow\">GridSearchCV</label><div class=\"sk-toggleable__content\"><pre>GridSearchCV(cv=5,\n",
              "             estimator=RandomForestClassifier(max_depth=10, min_samples_leaf=4,\n",
              "                                              min_samples_split=5),\n",
              "             param_grid={&#x27;max_depth&#x27;: [None, 10, 20, 30],\n",
              "                         &#x27;min_samples_leaf&#x27;: [1, 2, 4],\n",
              "                         &#x27;min_samples_split&#x27;: [2, 5, 10],\n",
              "                         &#x27;n_estimators&#x27;: [50, 100, 200]},\n",
              "             scoring=&#x27;accuracy&#x27;)</pre></div></div></div><div class=\"sk-parallel\"><div class=\"sk-parallel-item\"><div class=\"sk-item\"><div class=\"sk-label-container\"><div class=\"sk-label sk-toggleable\"><input class=\"sk-toggleable__control sk-hidden--visually\" id=\"sk-estimator-id-5\" type=\"checkbox\" ><label for=\"sk-estimator-id-5\" class=\"sk-toggleable__label sk-toggleable__label-arrow\">estimator: RandomForestClassifier</label><div class=\"sk-toggleable__content\"><pre>RandomForestClassifier(max_depth=10, min_samples_leaf=4, min_samples_split=5)</pre></div></div></div><div class=\"sk-serial\"><div class=\"sk-item\"><div class=\"sk-estimator sk-toggleable\"><input class=\"sk-toggleable__control sk-hidden--visually\" id=\"sk-estimator-id-6\" type=\"checkbox\" ><label for=\"sk-estimator-id-6\" class=\"sk-toggleable__label sk-toggleable__label-arrow\">RandomForestClassifier</label><div class=\"sk-toggleable__content\"><pre>RandomForestClassifier(max_depth=10, min_samples_leaf=4, min_samples_split=5)</pre></div></div></div></div></div></div></div></div></div></div>"
            ],
            "text/plain": [
              "GridSearchCV(cv=5,\n",
              "             estimator=RandomForestClassifier(max_depth=10, min_samples_leaf=4,\n",
              "                                              min_samples_split=5),\n",
              "             param_grid={'max_depth': [None, 10, 20, 30],\n",
              "                         'min_samples_leaf': [1, 2, 4],\n",
              "                         'min_samples_split': [2, 5, 10],\n",
              "                         'n_estimators': [50, 100, 200]},\n",
              "             scoring='accuracy')"
            ]
          },
          "execution_count": 200,
          "metadata": {},
          "output_type": "execute_result"
        }
      ],
      "source": [
        "grid_search_rf.fit(X,y)"
      ]
    },
    {
      "cell_type": "code",
      "execution_count": null,
      "id": "f7f28634",
      "metadata": {
        "papermill": {
          "duration": 0.053582,
          "end_time": "2024-11-12T09:58:57.902450",
          "exception": false,
          "start_time": "2024-11-12T09:58:57.848868",
          "status": "completed"
        },
        "tags": [],
        "id": "f7f28634"
      },
      "outputs": [],
      "source": [
        "best=grid_search_rf.best_params_"
      ]
    },
    {
      "cell_type": "code",
      "execution_count": null,
      "id": "b0c8f36c",
      "metadata": {
        "papermill": {
          "duration": 0.054138,
          "end_time": "2024-11-12T09:58:58.000827",
          "exception": false,
          "start_time": "2024-11-12T09:58:57.946689",
          "status": "completed"
        },
        "tags": [],
        "id": "b0c8f36c",
        "outputId": "6e22ace6-2fc4-40ce-e9e1-80de5b443c1a"
      },
      "outputs": [
        {
          "name": "stdout",
          "output_type": "stream",
          "text": [
            "{'max_depth': 10, 'min_samples_leaf': 1, 'min_samples_split': 10, 'n_estimators': 100}\n"
          ]
        }
      ],
      "source": [
        "print(best)"
      ]
    },
    {
      "cell_type": "code",
      "execution_count": null,
      "id": "a9a4e0cb",
      "metadata": {
        "papermill": {
          "duration": 0.054749,
          "end_time": "2024-11-12T09:58:58.099906",
          "exception": false,
          "start_time": "2024-11-12T09:58:58.045157",
          "status": "completed"
        },
        "tags": [],
        "id": "a9a4e0cb"
      },
      "outputs": [],
      "source": [
        "param = {\n",
        " 'n_estimators': [50, 100, 200],\n",
        " 'learning_rate': [0.01, 0.1, 0.2],\n",
        " 'max_depth': [3, 5, 7],\n",
        " 'subsample': [0.8, 0.9, 1.0],\n",
        " 'colsample_bytree': [0.8, 0.9, 1.0],\n",
        "}"
      ]
    },
    {
      "cell_type": "code",
      "execution_count": null,
      "id": "da293316",
      "metadata": {
        "papermill": {
          "duration": 0.053696,
          "end_time": "2024-11-12T09:58:58.200077",
          "exception": false,
          "start_time": "2024-11-12T09:58:58.146381",
          "status": "completed"
        },
        "tags": [],
        "id": "da293316"
      },
      "outputs": [],
      "source": [
        "grid_xg=GridSearchCV(scoring=\"accuracy\",estimator=xg,param_grid=param)"
      ]
    },
    {
      "cell_type": "code",
      "execution_count": null,
      "id": "a353f443",
      "metadata": {
        "papermill": {
          "duration": 157.452538,
          "end_time": "2024-11-12T10:01:35.697331",
          "exception": false,
          "start_time": "2024-11-12T09:58:58.244793",
          "status": "completed"
        },
        "tags": [],
        "id": "a353f443",
        "outputId": "ff32d586-3635-4cd6-c233-097d9c0434e3"
      },
      "outputs": [
        {
          "data": {
            "text/html": [
              "<style>#sk-container-id-3 {color: black;background-color: white;}#sk-container-id-3 pre{padding: 0;}#sk-container-id-3 div.sk-toggleable {background-color: white;}#sk-container-id-3 label.sk-toggleable__label {cursor: pointer;display: block;width: 100%;margin-bottom: 0;padding: 0.3em;box-sizing: border-box;text-align: center;}#sk-container-id-3 label.sk-toggleable__label-arrow:before {content: \"▸\";float: left;margin-right: 0.25em;color: #696969;}#sk-container-id-3 label.sk-toggleable__label-arrow:hover:before {color: black;}#sk-container-id-3 div.sk-estimator:hover label.sk-toggleable__label-arrow:before {color: black;}#sk-container-id-3 div.sk-toggleable__content {max-height: 0;max-width: 0;overflow: hidden;text-align: left;background-color: #f0f8ff;}#sk-container-id-3 div.sk-toggleable__content pre {margin: 0.2em;color: black;border-radius: 0.25em;background-color: #f0f8ff;}#sk-container-id-3 input.sk-toggleable__control:checked~div.sk-toggleable__content {max-height: 200px;max-width: 100%;overflow: auto;}#sk-container-id-3 input.sk-toggleable__control:checked~label.sk-toggleable__label-arrow:before {content: \"▾\";}#sk-container-id-3 div.sk-estimator input.sk-toggleable__control:checked~label.sk-toggleable__label {background-color: #d4ebff;}#sk-container-id-3 div.sk-label input.sk-toggleable__control:checked~label.sk-toggleable__label {background-color: #d4ebff;}#sk-container-id-3 input.sk-hidden--visually {border: 0;clip: rect(1px 1px 1px 1px);clip: rect(1px, 1px, 1px, 1px);height: 1px;margin: -1px;overflow: hidden;padding: 0;position: absolute;width: 1px;}#sk-container-id-3 div.sk-estimator {font-family: monospace;background-color: #f0f8ff;border: 1px dotted black;border-radius: 0.25em;box-sizing: border-box;margin-bottom: 0.5em;}#sk-container-id-3 div.sk-estimator:hover {background-color: #d4ebff;}#sk-container-id-3 div.sk-parallel-item::after {content: \"\";width: 100%;border-bottom: 1px solid gray;flex-grow: 1;}#sk-container-id-3 div.sk-label:hover label.sk-toggleable__label {background-color: #d4ebff;}#sk-container-id-3 div.sk-serial::before {content: \"\";position: absolute;border-left: 1px solid gray;box-sizing: border-box;top: 0;bottom: 0;left: 50%;z-index: 0;}#sk-container-id-3 div.sk-serial {display: flex;flex-direction: column;align-items: center;background-color: white;padding-right: 0.2em;padding-left: 0.2em;position: relative;}#sk-container-id-3 div.sk-item {position: relative;z-index: 1;}#sk-container-id-3 div.sk-parallel {display: flex;align-items: stretch;justify-content: center;background-color: white;position: relative;}#sk-container-id-3 div.sk-item::before, #sk-container-id-3 div.sk-parallel-item::before {content: \"\";position: absolute;border-left: 1px solid gray;box-sizing: border-box;top: 0;bottom: 0;left: 50%;z-index: -1;}#sk-container-id-3 div.sk-parallel-item {display: flex;flex-direction: column;z-index: 1;position: relative;background-color: white;}#sk-container-id-3 div.sk-parallel-item:first-child::after {align-self: flex-end;width: 50%;}#sk-container-id-3 div.sk-parallel-item:last-child::after {align-self: flex-start;width: 50%;}#sk-container-id-3 div.sk-parallel-item:only-child::after {width: 0;}#sk-container-id-3 div.sk-dashed-wrapped {border: 1px dashed gray;margin: 0 0.4em 0.5em 0.4em;box-sizing: border-box;padding-bottom: 0.4em;background-color: white;}#sk-container-id-3 div.sk-label label {font-family: monospace;font-weight: bold;display: inline-block;line-height: 1.2em;}#sk-container-id-3 div.sk-label-container {text-align: center;}#sk-container-id-3 div.sk-container {/* jupyter's `normalize.less` sets `[hidden] { display: none; }` but bootstrap.min.css set `[hidden] { display: none !important; }` so we also need the `!important` here to be able to override the default hidden behavior on the sphinx rendered scikit-learn.org. See: https://github.com/scikit-learn/scikit-learn/issues/21755 */display: inline-block !important;position: relative;}#sk-container-id-3 div.sk-text-repr-fallback {display: none;}</style><div id=\"sk-container-id-3\" class=\"sk-top-container\"><div class=\"sk-text-repr-fallback\"><pre>GridSearchCV(estimator=XGBClassifier(base_score=None, booster=None,\n",
              "                                     callbacks=None, colsample_bylevel=None,\n",
              "                                     colsample_bynode=None,\n",
              "                                     colsample_bytree=None, device=None,\n",
              "                                     early_stopping_rounds=None,\n",
              "                                     enable_categorical=False, eval_metric=None,\n",
              "                                     feature_types=None, gamma=None,\n",
              "                                     grow_policy=None, importance_type=None,\n",
              "                                     interaction_constraints=None,\n",
              "                                     learning_rate=None, max_b...\n",
              "                                     max_delta_step=None, max_depth=None,\n",
              "                                     max_leaves=None, min_child_weight=None,\n",
              "                                     missing=nan, monotone_constraints=None,\n",
              "                                     multi_strategy=None, n_estimators=None,\n",
              "                                     n_jobs=None, num_parallel_tree=None,\n",
              "                                     random_state=None, ...),\n",
              "             param_grid={&#x27;colsample_bytree&#x27;: [0.8, 0.9, 1.0],\n",
              "                         &#x27;learning_rate&#x27;: [0.01, 0.1, 0.2],\n",
              "                         &#x27;max_depth&#x27;: [3, 5, 7], &#x27;n_estimators&#x27;: [50, 100, 200],\n",
              "                         &#x27;subsample&#x27;: [0.8, 0.9, 1.0]},\n",
              "             scoring=&#x27;accuracy&#x27;)</pre><b>In a Jupyter environment, please rerun this cell to show the HTML representation or trust the notebook. <br />On GitHub, the HTML representation is unable to render, please try loading this page with nbviewer.org.</b></div><div class=\"sk-container\" hidden><div class=\"sk-item sk-dashed-wrapped\"><div class=\"sk-label-container\"><div class=\"sk-label sk-toggleable\"><input class=\"sk-toggleable__control sk-hidden--visually\" id=\"sk-estimator-id-7\" type=\"checkbox\" ><label for=\"sk-estimator-id-7\" class=\"sk-toggleable__label sk-toggleable__label-arrow\">GridSearchCV</label><div class=\"sk-toggleable__content\"><pre>GridSearchCV(estimator=XGBClassifier(base_score=None, booster=None,\n",
              "                                     callbacks=None, colsample_bylevel=None,\n",
              "                                     colsample_bynode=None,\n",
              "                                     colsample_bytree=None, device=None,\n",
              "                                     early_stopping_rounds=None,\n",
              "                                     enable_categorical=False, eval_metric=None,\n",
              "                                     feature_types=None, gamma=None,\n",
              "                                     grow_policy=None, importance_type=None,\n",
              "                                     interaction_constraints=None,\n",
              "                                     learning_rate=None, max_b...\n",
              "                                     max_delta_step=None, max_depth=None,\n",
              "                                     max_leaves=None, min_child_weight=None,\n",
              "                                     missing=nan, monotone_constraints=None,\n",
              "                                     multi_strategy=None, n_estimators=None,\n",
              "                                     n_jobs=None, num_parallel_tree=None,\n",
              "                                     random_state=None, ...),\n",
              "             param_grid={&#x27;colsample_bytree&#x27;: [0.8, 0.9, 1.0],\n",
              "                         &#x27;learning_rate&#x27;: [0.01, 0.1, 0.2],\n",
              "                         &#x27;max_depth&#x27;: [3, 5, 7], &#x27;n_estimators&#x27;: [50, 100, 200],\n",
              "                         &#x27;subsample&#x27;: [0.8, 0.9, 1.0]},\n",
              "             scoring=&#x27;accuracy&#x27;)</pre></div></div></div><div class=\"sk-parallel\"><div class=\"sk-parallel-item\"><div class=\"sk-item\"><div class=\"sk-label-container\"><div class=\"sk-label sk-toggleable\"><input class=\"sk-toggleable__control sk-hidden--visually\" id=\"sk-estimator-id-8\" type=\"checkbox\" ><label for=\"sk-estimator-id-8\" class=\"sk-toggleable__label sk-toggleable__label-arrow\">estimator: XGBClassifier</label><div class=\"sk-toggleable__content\"><pre>XGBClassifier(base_score=None, booster=None, callbacks=None,\n",
              "              colsample_bylevel=None, colsample_bynode=None,\n",
              "              colsample_bytree=None, device=None, early_stopping_rounds=None,\n",
              "              enable_categorical=False, eval_metric=None, feature_types=None,\n",
              "              gamma=None, grow_policy=None, importance_type=None,\n",
              "              interaction_constraints=None, learning_rate=None, max_bin=None,\n",
              "              max_cat_threshold=None, max_cat_to_onehot=None,\n",
              "              max_delta_step=None, max_depth=None, max_leaves=None,\n",
              "              min_child_weight=None, missing=nan, monotone_constraints=None,\n",
              "              multi_strategy=None, n_estimators=None, n_jobs=None,\n",
              "              num_parallel_tree=None, random_state=None, ...)</pre></div></div></div><div class=\"sk-serial\"><div class=\"sk-item\"><div class=\"sk-estimator sk-toggleable\"><input class=\"sk-toggleable__control sk-hidden--visually\" id=\"sk-estimator-id-9\" type=\"checkbox\" ><label for=\"sk-estimator-id-9\" class=\"sk-toggleable__label sk-toggleable__label-arrow\">XGBClassifier</label><div class=\"sk-toggleable__content\"><pre>XGBClassifier(base_score=None, booster=None, callbacks=None,\n",
              "              colsample_bylevel=None, colsample_bynode=None,\n",
              "              colsample_bytree=None, device=None, early_stopping_rounds=None,\n",
              "              enable_categorical=False, eval_metric=None, feature_types=None,\n",
              "              gamma=None, grow_policy=None, importance_type=None,\n",
              "              interaction_constraints=None, learning_rate=None, max_bin=None,\n",
              "              max_cat_threshold=None, max_cat_to_onehot=None,\n",
              "              max_delta_step=None, max_depth=None, max_leaves=None,\n",
              "              min_child_weight=None, missing=nan, monotone_constraints=None,\n",
              "              multi_strategy=None, n_estimators=None, n_jobs=None,\n",
              "              num_parallel_tree=None, random_state=None, ...)</pre></div></div></div></div></div></div></div></div></div></div>"
            ],
            "text/plain": [
              "GridSearchCV(estimator=XGBClassifier(base_score=None, booster=None,\n",
              "                                     callbacks=None, colsample_bylevel=None,\n",
              "                                     colsample_bynode=None,\n",
              "                                     colsample_bytree=None, device=None,\n",
              "                                     early_stopping_rounds=None,\n",
              "                                     enable_categorical=False, eval_metric=None,\n",
              "                                     feature_types=None, gamma=None,\n",
              "                                     grow_policy=None, importance_type=None,\n",
              "                                     interaction_constraints=None,\n",
              "                                     learning_rate=None, max_b...\n",
              "                                     max_delta_step=None, max_depth=None,\n",
              "                                     max_leaves=None, min_child_weight=None,\n",
              "                                     missing=nan, monotone_constraints=None,\n",
              "                                     multi_strategy=None, n_estimators=None,\n",
              "                                     n_jobs=None, num_parallel_tree=None,\n",
              "                                     random_state=None, ...),\n",
              "             param_grid={'colsample_bytree': [0.8, 0.9, 1.0],\n",
              "                         'learning_rate': [0.01, 0.1, 0.2],\n",
              "                         'max_depth': [3, 5, 7], 'n_estimators': [50, 100, 200],\n",
              "                         'subsample': [0.8, 0.9, 1.0]},\n",
              "             scoring='accuracy')"
            ]
          },
          "execution_count": 205,
          "metadata": {},
          "output_type": "execute_result"
        }
      ],
      "source": [
        "grid_xg.fit(X,y)"
      ]
    },
    {
      "cell_type": "code",
      "execution_count": null,
      "id": "e0d85e85",
      "metadata": {
        "papermill": {
          "duration": 0.054522,
          "end_time": "2024-11-12T10:01:35.796964",
          "exception": false,
          "start_time": "2024-11-12T10:01:35.742442",
          "status": "completed"
        },
        "tags": [],
        "id": "e0d85e85"
      },
      "outputs": [],
      "source": [
        "best=grid_xg.best_params_"
      ]
    },
    {
      "cell_type": "code",
      "execution_count": null,
      "id": "2ba034ee",
      "metadata": {
        "papermill": {
          "duration": 0.054619,
          "end_time": "2024-11-12T10:01:35.896650",
          "exception": false,
          "start_time": "2024-11-12T10:01:35.842031",
          "status": "completed"
        },
        "tags": [],
        "id": "2ba034ee",
        "outputId": "89d84c4f-04cd-4d40-fd17-b0c91927a2fb"
      },
      "outputs": [
        {
          "name": "stdout",
          "output_type": "stream",
          "text": [
            "{'colsample_bytree': 0.8, 'learning_rate': 0.1, 'max_depth': 3, 'n_estimators': 100, 'subsample': 1.0}\n"
          ]
        }
      ],
      "source": [
        "print(best)"
      ]
    },
    {
      "cell_type": "code",
      "execution_count": null,
      "id": "6d48ec21",
      "metadata": {
        "papermill": {
          "duration": 0.097587,
          "end_time": "2024-11-12T10:01:36.040071",
          "exception": false,
          "start_time": "2024-11-12T10:01:35.942484",
          "status": "completed"
        },
        "tags": [],
        "id": "6d48ec21"
      },
      "outputs": [],
      "source": [
        "xg=XGBClassifier(colsample_bytree=0.8,learning_rate=0.1,max_depth=3,n_estimators=50,subsample=0.9)\n",
        "xg.fit(X_train,y_train)\n",
        "y_pred_xg=xg.predict(X_test)\n",
        "Accuracy_xg=accuracy_score(y_pred,y_test)\n"
      ]
    },
    {
      "cell_type": "code",
      "execution_count": null,
      "id": "a19c1f59",
      "metadata": {
        "papermill": {
          "duration": 0.058036,
          "end_time": "2024-11-12T10:01:36.145420",
          "exception": false,
          "start_time": "2024-11-12T10:01:36.087384",
          "status": "completed"
        },
        "tags": [],
        "id": "a19c1f59",
        "outputId": "8a7e3233-868b-4468-8040-52b9292a8c85"
      },
      "outputs": [
        {
          "data": {
            "text/plain": [
              "0.7508871540099361"
            ]
          },
          "execution_count": 209,
          "metadata": {},
          "output_type": "execute_result"
        }
      ],
      "source": [
        "Accuracy_xg"
      ]
    }
  ],
  "metadata": {
    "kaggle": {
      "accelerator": "none",
      "dataSources": [
        {
          "datasetId": 13996,
          "sourceId": 18858,
          "sourceType": "datasetVersion"
        }
      ],
      "dockerImageVersionId": 30786,
      "isGpuEnabled": false,
      "isInternetEnabled": true,
      "language": "python",
      "sourceType": "notebook"
    },
    "kernelspec": {
      "display_name": "Python 3 (ipykernel)",
      "language": "python",
      "name": "python3"
    },
    "language_info": {
      "codemirror_mode": {
        "name": "ipython",
        "version": 3
      },
      "file_extension": ".py",
      "mimetype": "text/x-python",
      "name": "python",
      "nbconvert_exporter": "python",
      "pygments_lexer": "ipython3",
      "version": "3.11.7"
    },
    "papermill": {
      "default_parameters": {},
      "duration": 535.190002,
      "end_time": "2024-11-12T10:01:37.003646",
      "environment_variables": {},
      "exception": null,
      "input_path": "__notebook__.ipynb",
      "output_path": "__notebook__.ipynb",
      "parameters": {},
      "start_time": "2024-11-12T09:52:41.813644",
      "version": "2.6.0"
    },
    "colab": {
      "provenance": [],
      "include_colab_link": true
    }
  },
  "nbformat": 4,
  "nbformat_minor": 5
}